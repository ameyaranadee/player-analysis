{
 "cells": [
  {
   "cell_type": "code",
   "execution_count": 40,
   "id": "6ec4a491",
   "metadata": {},
   "outputs": [
    {
     "name": "stdout",
     "output_type": "stream",
     "text": [
      "Mozilla/5.0 (Windows NT 10.0; Win64; x64) AppleWebKit/537.36 (KHTML, like Gecko) Chrome/83.0.4103.53 Safari/537.36\n"
     ]
    }
   ],
   "source": [
    "from selenium import webdriver\n",
    "from webdriver_manager.chrome import ChromeDriverManager\n",
    "from selenium.webdriver.common.by import By\n",
    "from selenium.webdriver.support.ui import Select\n",
    "from time import sleep\n",
    "from bs4 import BeautifulSoup\n",
    "import lxml.html as lh\n",
    "from datetime import datetime\n",
    "from lxml import etree\n",
    "\n",
    "options = webdriver.ChromeOptions() \n",
    "options.add_argument(\"--disable-blink-features=AutomationControlled\")\n",
    "options.add_experimental_option(\"excludeSwitches\", [\"enable-automation\"])\n",
    "options.add_experimental_option('useAutomationExtension', False)\n",
    "driver = webdriver.Chrome(options=options)\n",
    "driver.execute_script(\"Object.defineProperty(navigator, 'webdriver', {get: () => undefined})\")\n",
    "driver.execute_cdp_cmd('Network.setUserAgentOverride', {\"userAgent\": 'Mozilla/5.0 (Windows NT 10.0; Win64; x64) AppleWebKit/537.36 (KHTML, like Gecko) Chrome/83.0.4103.53 Safari/537.36'})\n",
    "print(driver.execute_script(\"return navigator.userAgent;\"))\n",
    "driver.get('https://www.httpbin.org/headers')"
   ]
  },
  {
   "cell_type": "code",
   "execution_count": 41,
   "id": "1ca12c41",
   "metadata": {},
   "outputs": [],
   "source": [
    "import numpy as np\n",
    "import pandas as pd\n",
    "\n",
    "pd.set_option('display.max_columns', None)  # Display all columns\n",
    "pd.set_option('display.max_rows', None)     # Display all rows\n",
    "np.set_printoptions(threshold=np.inf)       # Display entire numpy arrays"
   ]
  },
  {
   "cell_type": "code",
   "execution_count": 42,
   "id": "9a68c5a9",
   "metadata": {},
   "outputs": [],
   "source": [
    "webpage_names = ['shooting', 'passing', 'gca', 'defense', 'possession']"
   ]
  },
  {
   "cell_type": "code",
   "execution_count": 44,
   "id": "d7a58a45",
   "metadata": {},
   "outputs": [],
   "source": [
    "for i in webpage_names:\n",
    "    url = f'https://fbref.com/en/comps/9/{i}/Premier-League-Stats'\n",
    "    driver.get(url)\n",
    "    driver.implicitly_wait(10)\n",
    "\n",
    "    html_content = driver.page_source\n",
    "\n",
    "    # Create a BeautifulSoup object from the HTML content\n",
    "    soup = BeautifulSoup(html_content, 'html.parser')\n",
    "\n",
    "    # Find all table rows in the tbody section\n",
    "    table = soup.find('table', id= f\"stats_{i}\")\n",
    "    # then we can iterate through each row and extract either header or row values:\n",
    "    header = []\n",
    "    rows = []\n",
    "    for j, row in enumerate(table.find_all('tr')):\n",
    "        if j < 2:\n",
    "            header = [el.text.strip() for el in row.find_all('th')]\n",
    "        else:\n",
    "            rows.append([el.text.strip() for el in row.find_all('td')])\n",
    "    header.pop(0)\n",
    "#     # Create the dataframe dynamically\n",
    "    exec(f\"data_{i} = pd.DataFrame(data=rows, columns=header)\")  # Replace pd.DataFrame() with your actual data assignment\n",
    "\n",
    "    exec(f\"data_{i}.drop(['Matches'], axis=1, inplace = True)\")\n",
    "    \n",
    "    exec(f\"data_{i}.dropna(how='all', inplace=True)\")\n",
    "#     # Save the dataframe as a CSV file\n",
    "    exec(f\"data_{i}.to_csv('PremierLeaguePlayer{i}Stats22-23.csv', index=False)\")"
   ]
  },
  {
   "cell_type": "code",
   "execution_count": 45,
   "id": "de472bf0",
   "metadata": {},
   "outputs": [],
   "source": [
    "driver.close()"
   ]
  },
  {
   "cell_type": "code",
   "execution_count": null,
   "id": "d3824b13",
   "metadata": {},
   "outputs": [],
   "source": []
  }
 ],
 "metadata": {
  "kernelspec": {
   "display_name": "Python 3 (ipykernel)",
   "language": "python",
   "name": "python3"
  },
  "language_info": {
   "codemirror_mode": {
    "name": "ipython",
    "version": 3
   },
   "file_extension": ".py",
   "mimetype": "text/x-python",
   "name": "python",
   "nbconvert_exporter": "python",
   "pygments_lexer": "ipython3",
   "version": "3.9.12"
  }
 },
 "nbformat": 4,
 "nbformat_minor": 5
}
