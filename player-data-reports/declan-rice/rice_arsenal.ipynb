{
 "cells": [
  {
   "cell_type": "code",
   "execution_count": 1,
   "id": "5e7a1e3c",
   "metadata": {},
   "outputs": [],
   "source": [
    "import numpy as np\n",
    "import pandas as pd\n",
    "\n",
    "pd.set_option('display.max_columns', None)  # Display all columns\n",
    "pd.set_option('display.max_rows', None)     # Display all rows\n",
    "np.set_printoptions(threshold=np.inf)       # Display entire numpy arrays"
   ]
  },
  {
   "cell_type": "code",
   "execution_count": null,
   "id": "84e2d99a",
   "metadata": {},
   "outputs": [],
   "source": [
    "players = pd.read_csv('../../Big5/')\n",
    "players.head()"
   ]
  }
 ],
 "metadata": {
  "kernelspec": {
   "display_name": "Python 3",
   "language": "python",
   "name": "python3"
  },
  "language_info": {
   "codemirror_mode": {
    "name": "ipython",
    "version": 3
   },
   "file_extension": ".py",
   "mimetype": "text/x-python",
   "name": "python",
   "nbconvert_exporter": "python",
   "pygments_lexer": "ipython3",
   "version": "3.9.1"
  }
 },
 "nbformat": 4,
 "nbformat_minor": 5
}
