{
 "cells": [
  {
   "cell_type": "code",
   "execution_count": 1,
   "id": "34cdd2b4",
   "metadata": {},
   "outputs": [],
   "source": [
    "import numpy as np\n",
    "import pandas as pd\n",
    "\n",
    "pd.set_option('display.max_columns', None)  # Display all columns\n",
    "pd.set_option('display.max_rows', None)     # Display all rows\n",
    "np.set_printoptions(threshold=np.inf)       # Display entire numpy arrays"
   ]
  },
  {
   "cell_type": "code",
   "execution_count": 2,
   "id": "acd6c168",
   "metadata": {},
   "outputs": [
    {
     "data": {
      "text/html": [
       "<div>\n",
       "<style scoped>\n",
       "    .dataframe tbody tr th:only-of-type {\n",
       "        vertical-align: middle;\n",
       "    }\n",
       "\n",
       "    .dataframe tbody tr th {\n",
       "        vertical-align: top;\n",
       "    }\n",
       "\n",
       "    .dataframe thead th {\n",
       "        text-align: right;\n",
       "    }\n",
       "</style>\n",
       "<table border=\"1\" class=\"dataframe\">\n",
       "  <thead>\n",
       "    <tr style=\"text-align: right;\">\n",
       "      <th></th>\n",
       "      <th>Player</th>\n",
       "      <th>Nation</th>\n",
       "      <th>Pos</th>\n",
       "      <th>Squad</th>\n",
       "      <th>Age</th>\n",
       "      <th>Born</th>\n",
       "      <th>MP</th>\n",
       "      <th>Starts</th>\n",
       "      <th>Min</th>\n",
       "      <th>90s</th>\n",
       "      <th>Gls</th>\n",
       "      <th>Ast</th>\n",
       "      <th>G+A</th>\n",
       "      <th>npGls</th>\n",
       "      <th>PK</th>\n",
       "      <th>PKatt</th>\n",
       "      <th>CrdY</th>\n",
       "      <th>CrdR</th>\n",
       "      <th>xG</th>\n",
       "      <th>npxG</th>\n",
       "      <th>xAG</th>\n",
       "      <th>npxG+xAG</th>\n",
       "      <th>PrgC</th>\n",
       "      <th>PrgP</th>\n",
       "      <th>PrgR</th>\n",
       "      <th>Glsp90</th>\n",
       "      <th>Astp90</th>\n",
       "      <th>G+Ap90</th>\n",
       "      <th>npGlsp90</th>\n",
       "      <th>npGlsAstp90</th>\n",
       "      <th>xGp90</th>\n",
       "      <th>xAGp90</th>\n",
       "      <th>xG+xAGp90</th>\n",
       "      <th>npxGp90</th>\n",
       "      <th>npxG+xAGp90</th>\n",
       "    </tr>\n",
       "  </thead>\n",
       "  <tbody>\n",
       "    <tr>\n",
       "      <th>0</th>\n",
       "      <td>Erling Haaland</td>\n",
       "      <td>no NOR</td>\n",
       "      <td>FW</td>\n",
       "      <td>Manchester City</td>\n",
       "      <td>22.0</td>\n",
       "      <td>2000.0</td>\n",
       "      <td>35.0</td>\n",
       "      <td>33.0</td>\n",
       "      <td>2,769</td>\n",
       "      <td>30.8</td>\n",
       "      <td>36.0</td>\n",
       "      <td>8.0</td>\n",
       "      <td>44.0</td>\n",
       "      <td>29.0</td>\n",
       "      <td>7.0</td>\n",
       "      <td>7.0</td>\n",
       "      <td>5.0</td>\n",
       "      <td>0.0</td>\n",
       "      <td>28.4</td>\n",
       "      <td>23.1</td>\n",
       "      <td>5.3</td>\n",
       "      <td>28.4</td>\n",
       "      <td>35.0</td>\n",
       "      <td>58.0</td>\n",
       "      <td>151.0</td>\n",
       "      <td>1.17</td>\n",
       "      <td>0.26</td>\n",
       "      <td>1.43</td>\n",
       "      <td>0.94</td>\n",
       "      <td>1.20</td>\n",
       "      <td>0.92</td>\n",
       "      <td>0.17</td>\n",
       "      <td>1.10</td>\n",
       "      <td>0.75</td>\n",
       "      <td>0.92</td>\n",
       "    </tr>\n",
       "    <tr>\n",
       "      <th>1</th>\n",
       "      <td>Harry Kane</td>\n",
       "      <td>eng ENG</td>\n",
       "      <td>FW</td>\n",
       "      <td>Tottenham</td>\n",
       "      <td>29.0</td>\n",
       "      <td>1993.0</td>\n",
       "      <td>38.0</td>\n",
       "      <td>38.0</td>\n",
       "      <td>3,405</td>\n",
       "      <td>37.8</td>\n",
       "      <td>30.0</td>\n",
       "      <td>3.0</td>\n",
       "      <td>33.0</td>\n",
       "      <td>25.0</td>\n",
       "      <td>5.0</td>\n",
       "      <td>6.0</td>\n",
       "      <td>6.0</td>\n",
       "      <td>0.0</td>\n",
       "      <td>21.5</td>\n",
       "      <td>16.7</td>\n",
       "      <td>7.0</td>\n",
       "      <td>23.7</td>\n",
       "      <td>60.0</td>\n",
       "      <td>180.0</td>\n",
       "      <td>193.0</td>\n",
       "      <td>0.79</td>\n",
       "      <td>0.08</td>\n",
       "      <td>0.87</td>\n",
       "      <td>0.66</td>\n",
       "      <td>0.74</td>\n",
       "      <td>0.57</td>\n",
       "      <td>0.18</td>\n",
       "      <td>0.75</td>\n",
       "      <td>0.44</td>\n",
       "      <td>0.63</td>\n",
       "    </tr>\n",
       "    <tr>\n",
       "      <th>2</th>\n",
       "      <td>Ivan Toney</td>\n",
       "      <td>eng ENG</td>\n",
       "      <td>FW</td>\n",
       "      <td>Brentford</td>\n",
       "      <td>26.0</td>\n",
       "      <td>1996.0</td>\n",
       "      <td>33.0</td>\n",
       "      <td>33.0</td>\n",
       "      <td>2,951</td>\n",
       "      <td>32.8</td>\n",
       "      <td>20.0</td>\n",
       "      <td>4.0</td>\n",
       "      <td>24.0</td>\n",
       "      <td>14.0</td>\n",
       "      <td>6.0</td>\n",
       "      <td>7.0</td>\n",
       "      <td>9.0</td>\n",
       "      <td>0.0</td>\n",
       "      <td>18.7</td>\n",
       "      <td>13.2</td>\n",
       "      <td>5.1</td>\n",
       "      <td>18.3</td>\n",
       "      <td>14.0</td>\n",
       "      <td>79.0</td>\n",
       "      <td>165.0</td>\n",
       "      <td>0.61</td>\n",
       "      <td>0.12</td>\n",
       "      <td>0.73</td>\n",
       "      <td>0.43</td>\n",
       "      <td>0.55</td>\n",
       "      <td>0.57</td>\n",
       "      <td>0.15</td>\n",
       "      <td>0.73</td>\n",
       "      <td>0.40</td>\n",
       "      <td>0.56</td>\n",
       "    </tr>\n",
       "    <tr>\n",
       "      <th>3</th>\n",
       "      <td>Mohamed Salah</td>\n",
       "      <td>eg EGY</td>\n",
       "      <td>FW</td>\n",
       "      <td>Liverpool</td>\n",
       "      <td>30.0</td>\n",
       "      <td>1992.0</td>\n",
       "      <td>38.0</td>\n",
       "      <td>37.0</td>\n",
       "      <td>3,290</td>\n",
       "      <td>36.6</td>\n",
       "      <td>19.0</td>\n",
       "      <td>12.0</td>\n",
       "      <td>31.0</td>\n",
       "      <td>17.0</td>\n",
       "      <td>2.0</td>\n",
       "      <td>4.0</td>\n",
       "      <td>2.0</td>\n",
       "      <td>0.0</td>\n",
       "      <td>21.7</td>\n",
       "      <td>18.5</td>\n",
       "      <td>7.7</td>\n",
       "      <td>26.2</td>\n",
       "      <td>120.0</td>\n",
       "      <td>149.0</td>\n",
       "      <td>421.0</td>\n",
       "      <td>0.52</td>\n",
       "      <td>0.33</td>\n",
       "      <td>0.85</td>\n",
       "      <td>0.47</td>\n",
       "      <td>0.79</td>\n",
       "      <td>0.59</td>\n",
       "      <td>0.21</td>\n",
       "      <td>0.80</td>\n",
       "      <td>0.51</td>\n",
       "      <td>0.72</td>\n",
       "    </tr>\n",
       "    <tr>\n",
       "      <th>4</th>\n",
       "      <td>Callum Wilson</td>\n",
       "      <td>eng ENG</td>\n",
       "      <td>FW</td>\n",
       "      <td>Newcastle Utd</td>\n",
       "      <td>30.0</td>\n",
       "      <td>1992.0</td>\n",
       "      <td>31.0</td>\n",
       "      <td>21.0</td>\n",
       "      <td>1,877</td>\n",
       "      <td>20.9</td>\n",
       "      <td>18.0</td>\n",
       "      <td>5.0</td>\n",
       "      <td>23.0</td>\n",
       "      <td>15.0</td>\n",
       "      <td>3.0</td>\n",
       "      <td>3.0</td>\n",
       "      <td>4.0</td>\n",
       "      <td>0.0</td>\n",
       "      <td>17.5</td>\n",
       "      <td>15.1</td>\n",
       "      <td>2.7</td>\n",
       "      <td>17.8</td>\n",
       "      <td>27.0</td>\n",
       "      <td>19.0</td>\n",
       "      <td>118.0</td>\n",
       "      <td>0.86</td>\n",
       "      <td>0.24</td>\n",
       "      <td>1.10</td>\n",
       "      <td>0.72</td>\n",
       "      <td>0.96</td>\n",
       "      <td>0.84</td>\n",
       "      <td>0.13</td>\n",
       "      <td>0.97</td>\n",
       "      <td>0.72</td>\n",
       "      <td>0.85</td>\n",
       "    </tr>\n",
       "  </tbody>\n",
       "</table>\n",
       "</div>"
      ],
      "text/plain": [
       "           Player   Nation Pos            Squad   Age    Born    MP  Starts  \\\n",
       "0  Erling Haaland   no NOR  FW  Manchester City  22.0  2000.0  35.0    33.0   \n",
       "1      Harry Kane  eng ENG  FW        Tottenham  29.0  1993.0  38.0    38.0   \n",
       "2      Ivan Toney  eng ENG  FW        Brentford  26.0  1996.0  33.0    33.0   \n",
       "3   Mohamed Salah   eg EGY  FW        Liverpool  30.0  1992.0  38.0    37.0   \n",
       "4   Callum Wilson  eng ENG  FW    Newcastle Utd  30.0  1992.0  31.0    21.0   \n",
       "\n",
       "     Min   90s   Gls   Ast   G+A  npGls   PK  PKatt  CrdY  CrdR    xG  npxG  \\\n",
       "0  2,769  30.8  36.0   8.0  44.0   29.0  7.0    7.0   5.0   0.0  28.4  23.1   \n",
       "1  3,405  37.8  30.0   3.0  33.0   25.0  5.0    6.0   6.0   0.0  21.5  16.7   \n",
       "2  2,951  32.8  20.0   4.0  24.0   14.0  6.0    7.0   9.0   0.0  18.7  13.2   \n",
       "3  3,290  36.6  19.0  12.0  31.0   17.0  2.0    4.0   2.0   0.0  21.7  18.5   \n",
       "4  1,877  20.9  18.0   5.0  23.0   15.0  3.0    3.0   4.0   0.0  17.5  15.1   \n",
       "\n",
       "   xAG  npxG+xAG   PrgC   PrgP   PrgR  Glsp90  Astp90  G+Ap90  npGlsp90  \\\n",
       "0  5.3      28.4   35.0   58.0  151.0    1.17    0.26    1.43      0.94   \n",
       "1  7.0      23.7   60.0  180.0  193.0    0.79    0.08    0.87      0.66   \n",
       "2  5.1      18.3   14.0   79.0  165.0    0.61    0.12    0.73      0.43   \n",
       "3  7.7      26.2  120.0  149.0  421.0    0.52    0.33    0.85      0.47   \n",
       "4  2.7      17.8   27.0   19.0  118.0    0.86    0.24    1.10      0.72   \n",
       "\n",
       "   npGlsAstp90  xGp90  xAGp90  xG+xAGp90  npxGp90  npxG+xAGp90  \n",
       "0         1.20   0.92    0.17       1.10     0.75         0.92  \n",
       "1         0.74   0.57    0.18       0.75     0.44         0.63  \n",
       "2         0.55   0.57    0.15       0.73     0.40         0.56  \n",
       "3         0.79   0.59    0.21       0.80     0.51         0.72  \n",
       "4         0.96   0.84    0.13       0.97     0.72         0.85  "
      ]
     },
     "execution_count": 2,
     "metadata": {},
     "output_type": "execute_result"
    }
   ],
   "source": [
    "players = pd.read_csv('PremierLeaguePlayerStats22-23.csv')\n",
    "players.head()"
   ]
  },
  {
   "cell_type": "code",
   "execution_count": 3,
   "id": "d636a450",
   "metadata": {},
   "outputs": [
    {
     "data": {
      "text/html": [
       "<div>\n",
       "<style scoped>\n",
       "    .dataframe tbody tr th:only-of-type {\n",
       "        vertical-align: middle;\n",
       "    }\n",
       "\n",
       "    .dataframe tbody tr th {\n",
       "        vertical-align: top;\n",
       "    }\n",
       "\n",
       "    .dataframe thead th {\n",
       "        text-align: right;\n",
       "    }\n",
       "</style>\n",
       "<table border=\"1\" class=\"dataframe\">\n",
       "  <thead>\n",
       "    <tr style=\"text-align: right;\">\n",
       "      <th></th>\n",
       "      <th>Player</th>\n",
       "      <th>Nation</th>\n",
       "      <th>Pos</th>\n",
       "      <th>Squad</th>\n",
       "      <th>Age</th>\n",
       "      <th>Born</th>\n",
       "      <th>MP</th>\n",
       "      <th>Starts</th>\n",
       "      <th>Min</th>\n",
       "      <th>90s</th>\n",
       "      <th>Gls</th>\n",
       "      <th>Ast</th>\n",
       "      <th>G+A</th>\n",
       "      <th>npGls</th>\n",
       "      <th>PK</th>\n",
       "      <th>PKatt</th>\n",
       "      <th>CrdY</th>\n",
       "      <th>CrdR</th>\n",
       "      <th>xG</th>\n",
       "      <th>npxG</th>\n",
       "      <th>xAG</th>\n",
       "      <th>npxG+xAG</th>\n",
       "      <th>PrgC</th>\n",
       "      <th>PrgP</th>\n",
       "      <th>PrgR</th>\n",
       "      <th>Glsp90</th>\n",
       "      <th>Astp90</th>\n",
       "      <th>G+Ap90</th>\n",
       "      <th>npGlsp90</th>\n",
       "      <th>npGlsAstp90</th>\n",
       "      <th>xGp90</th>\n",
       "      <th>xAGp90</th>\n",
       "      <th>xG+xAGp90</th>\n",
       "      <th>npxGp90</th>\n",
       "      <th>npxG+xAGp90</th>\n",
       "    </tr>\n",
       "  </thead>\n",
       "  <tbody>\n",
       "    <tr>\n",
       "      <th>21</th>\n",
       "      <td>Alexis Mac Allister</td>\n",
       "      <td>ar ARG</td>\n",
       "      <td>MF</td>\n",
       "      <td>Brighton</td>\n",
       "      <td>23.0</td>\n",
       "      <td>1998.0</td>\n",
       "      <td>35.0</td>\n",
       "      <td>31.0</td>\n",
       "      <td>2,886</td>\n",
       "      <td>32.1</td>\n",
       "      <td>10.0</td>\n",
       "      <td>2.0</td>\n",
       "      <td>12.0</td>\n",
       "      <td>4.0</td>\n",
       "      <td>6.0</td>\n",
       "      <td>6.0</td>\n",
       "      <td>8.0</td>\n",
       "      <td>0.0</td>\n",
       "      <td>12.1</td>\n",
       "      <td>7.3</td>\n",
       "      <td>4.3</td>\n",
       "      <td>11.6</td>\n",
       "      <td>69.0</td>\n",
       "      <td>174.0</td>\n",
       "      <td>77.0</td>\n",
       "      <td>0.31</td>\n",
       "      <td>0.06</td>\n",
       "      <td>0.37</td>\n",
       "      <td>0.12</td>\n",
       "      <td>0.19</td>\n",
       "      <td>0.38</td>\n",
       "      <td>0.13</td>\n",
       "      <td>0.51</td>\n",
       "      <td>0.23</td>\n",
       "      <td>0.36</td>\n",
       "    </tr>\n",
       "  </tbody>\n",
       "</table>\n",
       "</div>"
      ],
      "text/plain": [
       "                 Player  Nation Pos     Squad   Age    Born    MP  Starts  \\\n",
       "21  Alexis Mac Allister  ar ARG  MF  Brighton  23.0  1998.0  35.0    31.0   \n",
       "\n",
       "      Min   90s   Gls  Ast   G+A  npGls   PK  PKatt  CrdY  CrdR    xG  npxG  \\\n",
       "21  2,886  32.1  10.0  2.0  12.0    4.0  6.0    6.0   8.0   0.0  12.1   7.3   \n",
       "\n",
       "    xAG  npxG+xAG  PrgC   PrgP  PrgR  Glsp90  Astp90  G+Ap90  npGlsp90  \\\n",
       "21  4.3      11.6  69.0  174.0  77.0    0.31    0.06    0.37      0.12   \n",
       "\n",
       "    npGlsAstp90  xGp90  xAGp90  xG+xAGp90  npxGp90  npxG+xAGp90  \n",
       "21         0.19   0.38    0.13       0.51     0.23         0.36  "
      ]
     },
     "execution_count": 3,
     "metadata": {},
     "output_type": "execute_result"
    }
   ],
   "source": [
    "players[players['Player'] == 'Alexis Mac Allister']"
   ]
  },
  {
   "cell_type": "code",
   "execution_count": 4,
   "id": "9eb35384",
   "metadata": {},
   "outputs": [],
   "source": [
    "# Converting mins from object type to numeric type\n",
    "players['Min'] = players['Min'].replace({',':''}, regex=True)\n",
    "players['Min'] = pd.to_numeric(players['Min'])"
   ]
  },
  {
   "cell_type": "code",
   "execution_count": 5,
   "id": "57052579",
   "metadata": {},
   "outputs": [],
   "source": [
    "# # Get only players whose 'Pos' column contains 'MF' and 'MP' > 1000\n",
    "# midfielders = players[(players['Pos'].str.contains('MF')) & (players['Min'] > 1000)]\n",
    "midfielders = players[((players['Pos'] == 'MF') | (players['Pos'] == 'MF,FW')) & (players['Min'] > 1000)]\n",
    "\n",
    "# Filter players for whom Gls90 > 0\n",
    "midfielders = midfielders[midfielders['npGlsp90'] > 0.0]"
   ]
  },
  {
   "cell_type": "code",
   "execution_count": 6,
   "id": "4598f96a",
   "metadata": {},
   "outputs": [],
   "source": [
    "show_names = ['Martin Ødegaard', 'Alexis Mac Allister', 'James Maddison', 'James Ward-Prowse', 'Bruno Fernandes', \n",
    "              'İlkay Gündoğan', 'Philip Billing', 'Kevin De Bruyne', 'Granit Xhaka', 'Joelinton', 'Douglas Luiz', \n",
    "              'Jacob Ramsey', 'Emi Buendía', 'Morgan Gibbs-White', 'Carlos Alcaraz', 'Pierre Højbjerg',\n",
    "              'Lucas Paquetá', 'Andreas Pereira', 'Declan Rice', 'Bernardo Silva', 'Conor Gallagher', 'Curtis Jones',\n",
    "              'Mason Mount', 'Youri Tielemans', 'Joe Willock', 'Kiernan Dewsbury-Hall', 'Fred',\n",
    "              'Brenden Aaronson', 'Moisés Caicedo', 'Harvey Elliott', 'Christian Eriksen', 'Mateo Kovačić', \n",
    "              'Sean Longstaff', 'John McGinn', 'Scott McTominay', 'Matheus Nunes']"
   ]
  },
  {
   "cell_type": "markdown",
   "id": "d3868a5d",
   "metadata": {},
   "source": [
    "## Goal Scoring Scatter Plot"
   ]
  },
  {
   "cell_type": "code",
   "execution_count": 7,
   "id": "536fedbf",
   "metadata": {},
   "outputs": [],
   "source": [
    "# import matplotlib.pyplot as plt\n",
    "# from matplotlib.offsetbox import OffsetImage, AnnotationBbox\n",
    "\n",
    "# # Set the figure size\n",
    "# plt.figure(figsize=(20, 20), dpi=600)\n",
    "\n",
    "# # Calculate median values for x and y variables\n",
    "# x_median = midfielders['xGp90'].median()\n",
    "# y_median = midfielders['npGlsp90'].median()\n",
    "\n",
    "# # Plot 'Glsp90' against 'xGp90'\n",
    "# plt.scatter(midfielders['xGp90'], midfielders['npGlsp90'], marker='None')\n",
    "# plt.xlabel('xGp90')\n",
    "# plt.ylabel('npGlsp90')\n",
    "# plt.title('Non Penalty Goals per 90 minutes vs Expected Goals per 90 minutes (Midfielders)')\n",
    "\n",
    "# # Annotate some data points with player names\n",
    "# for i, player in midfielders.iterrows():\n",
    "#     if player['Player'] in show_names:\n",
    "#         plt.text(player['xGp90']+0.001, player['npGlsp90']+0.007, player['Player'])\n",
    "\n",
    "# # Add club logos for selected data points\n",
    "# for i, player in midfielders.iterrows():\n",
    "# #     if player['Player'] in show_badges:\n",
    "#     img_path = 'club-logos/' + player['Squad'] + '.png'\n",
    "#     image = plt.imread(img_path)\n",
    "#     imagebox = OffsetImage(image, zoom = 0.075, alpha = 1)\n",
    "#     ab = AnnotationBbox(imagebox, (player['xGp90'], player['npGlsp90']), frameon=False)\n",
    "#     plt.gca().add_artist(ab)\n",
    "\n",
    "# # Add median lines\n",
    "# plt.axhline(y=y_median, color='r', linestyle='--', label='Median npGlsp90')\n",
    "# plt.axvline(x=x_median, color='r', linestyle='--', label='Median xGp90')\n",
    "\n",
    "# # Quadrants explanation\n",
    "# plt.text(0.025,0.42,\"Less expected goals (Player overperformed)\",color=\"red\",size=\"12\")\n",
    "# plt.text(0.025,0.43,\"More goals\",color=\"green\",size=\"12\")\n",
    "\n",
    "# plt.text(0.335,0.43,\"Higher expected goals\",color=\"green\",size=\"12\")\n",
    "# plt.text(0.335,0.42,\"More goals\",color=\"green\",size=\"12\")\n",
    "\n",
    "# plt.text(0.31,0.032,\"Higher expected goals\",color=\"green\",size=\"12\")\n",
    "# plt.text(0.31,0.025,\"Fewer goals (Player underperformed)\",color=\"red\",size=\"12\")\n",
    "\n",
    "# # Annotate with text + Arrow\n",
    "# x_mcallister = (midfielders[midfielders['Player'] == 'Alexis Mac Allister'])['xGp90']\n",
    "# y_mcallister = (midfielders[midfielders['Player'] == 'Alexis Mac Allister'])['npGlsp90']\n",
    "# plt.text(x=0.32, y=0.14, s='TOT', fontdict=dict(color='red',size=10), bbox=dict(facecolor='yellow',alpha=0.5))\n",
    "# # plt.annotate('This point is interesting!', xy=(x_mcallister, y_mcallister), xytext=(0.32, 0.14), arrowprops=dict(facecolor='black', shrink=0.005))\n",
    "\n",
    "# plt.legend()\n",
    "\n",
    "# # Save the plot with higher DPI\n",
    "# plt.savefig('Goal Scoring.png', dpi=300)\n",
    "\n",
    "# plt.show()"
   ]
  },
  {
   "cell_type": "code",
   "execution_count": 88,
   "id": "a0185140",
   "metadata": {},
   "outputs": [
    {
     "data": {
      "application/vnd.plotly.v1+json": {
       "config": {
        "plotlyServerURL": "https://plot.ly"
       },
       "data": [
        {
         "customdata": [
          [
           "Martin Ødegaard"
          ],
          [
           "Eberechi Eze"
          ],
          [
           "Son Heung-min"
          ],
          [
           "Alexis Mac Allister"
          ],
          [
           "James Maddison"
          ],
          [
           "James Ward-Prowse"
          ],
          [
           "Bruno Fernandes"
          ],
          [
           "İlkay Gündoğan"
          ],
          [
           "Philip Billing"
          ],
          [
           "Kevin De Bruyne"
          ],
          [
           "Granit Xhaka"
          ],
          [
           "Joelinton"
          ],
          [
           "Douglas Luiz"
          ],
          [
           "Rúben Neves"
          ],
          [
           "Jacob Ramsey"
          ],
          [
           "Rodrigo Bentancur"
          ],
          [
           "Emi Buendía"
          ],
          [
           "Abdoulaye Doucouré"
          ],
          [
           "Morgan Gibbs-White"
          ],
          [
           "Mathias Jensen"
          ],
          [
           "Jefferson Lerma"
          ],
          [
           "Marcus Tavernier"
          ],
          [
           "Carlos Alcaraz"
          ],
          [
           "Casemiro"
          ],
          [
           "Josh Dasilva"
          ],
          [
           "Bruno Guimarães"
          ],
          [
           "Pierre Højbjerg"
          ],
          [
           "Lucas Paquetá"
          ],
          [
           "Andreas Pereira"
          ],
          [
           "Declan Rice"
          ],
          [
           "Bernardo Silva"
          ],
          [
           "Jaidon Anthony"
          ],
          [
           "Conor Gallagher"
          ],
          [
           "Curtis Jones"
          ],
          [
           "Mason Mount"
          ],
          [
           "João Palhinha"
          ],
          [
           "Thomas Partey"
          ],
          [
           "Harrison Reed"
          ],
          [
           "Jeffrey Schlupp"
          ],
          [
           "Youri Tielemans"
          ],
          [
           "Joe Willock"
          ],
          [
           "Joe Aribo"
          ],
          [
           "Stuart Armstrong"
          ],
          [
           "Kiernan Dewsbury-Hall"
          ],
          [
           "Fred"
          ],
          [
           "Alex Iwobi"
          ],
          [
           "Dejan Kulusevski"
          ],
          [
           "Rodri"
          ],
          [
           "Tomáš Souček"
          ],
          [
           "Brenden Aaronson"
          ],
          [
           "Moisés Caicedo"
          ],
          [
           "Ryan Christie"
          ],
          [
           "Harvey Elliott"
          ],
          [
           "Mohamed Elyounoussi"
          ],
          [
           "Christian Eriksen"
          ],
          [
           "Mateo Kovačić"
          ],
          [
           "Roméo Lavia"
          ],
          [
           "Sean Longstaff"
          ],
          [
           "Orel Mangala"
          ],
          [
           "John McGinn"
          ],
          [
           "Scott McTominay"
          ],
          [
           "Matheus Nunes"
          ],
          [
           "Christian Nørgaard"
          ],
          [
           "Amadou Onana"
          ],
          [
           "Dango Ouattara"
          ],
          [
           "Richarlison"
          ],
          [
           "Marc Roca"
          ],
          [
           "Oliver Skipp"
          ]
         ],
         "hovertemplate": "xGp90=%{x}<br>npGlsp90=%{y}<br>Player=%{customdata[0]}<extra></extra>",
         "legendgroup": "",
         "marker": {
          "color": "#636efa",
          "symbol": "circle"
         },
         "mode": "markers",
         "name": "",
         "orientation": "v",
         "showlegend": false,
         "type": "scatter",
         "x": [
          0.29,
          0.25,
          0.31,
          0.38,
          0.31,
          0.15,
          0.25,
          0.29,
          0.16,
          0.21,
          0.14,
          0.24,
          0.09,
          0.15,
          0.17,
          0.13,
          0.24,
          0.14,
          0.18,
          0.07,
          0.07,
          0.16,
          0.17,
          0.14,
          0.1,
          0.09,
          0.06,
          0.18,
          0.24,
          0.07,
          0.09,
          0.16,
          0.14,
          0.1,
          0.11,
          0.08,
          0.08,
          0.06,
          0.11,
          0.1,
          0.25,
          0.11,
          0.15,
          0.09,
          0.14,
          0.07,
          0.11,
          0.14,
          0.13,
          0.15,
          0.05,
          0.14,
          0.12,
          0.15,
          0.22,
          0.09,
          0.02,
          0.13,
          0.03,
          0.08,
          0.15,
          0.09,
          0.08,
          0.11,
          0.26,
          0.29,
          0.08,
          0.02
         ],
         "xaxis": "x",
         "y": [
          0.43,
          0.31,
          0.31,
          0.12,
          0.33,
          0.19,
          0.16,
          0.31,
          0.23,
          0.26,
          0.21,
          0.2,
          0.18,
          0.09,
          0.2,
          0.3,
          0.19,
          0.29,
          0.09,
          0.16,
          0.14,
          0.26,
          0.35,
          0.17,
          0.26,
          0.13,
          0.11,
          0.13,
          0.1,
          0.11,
          0.16,
          0.21,
          0.17,
          0.26,
          0.16,
          0.09,
          0.11,
          0.09,
          0.11,
          0.08,
          0.11,
          0.15,
          0.13,
          0.08,
          0.14,
          0.05,
          0.09,
          0.06,
          0.06,
          0.04,
          0.03,
          0.05,
          0.06,
          0.04,
          0.04,
          0.05,
          0.04,
          0.04,
          0.06,
          0.03,
          0.08,
          0.04,
          0.05,
          0.04,
          0.07,
          0.09,
          0.04,
          0.06
         ],
         "yaxis": "y"
        }
       ],
       "layout": {
        "annotations": [
         {
          "font": {
           "size": 10
          },
          "showarrow": false,
          "text": "Martin Ødegaard",
          "x": 0.291,
          "y": 0.437
         },
         {
          "font": {
           "size": 10
          },
          "showarrow": false,
          "text": "Alexis Mac Allister",
          "x": 0.381,
          "y": 0.127
         },
         {
          "font": {
           "size": 10
          },
          "showarrow": false,
          "text": "James Maddison",
          "x": 0.311,
          "y": 0.337
         },
         {
          "font": {
           "size": 10
          },
          "showarrow": false,
          "text": "James Ward-Prowse",
          "x": 0.151,
          "y": 0.197
         },
         {
          "font": {
           "size": 10
          },
          "showarrow": false,
          "text": "Bruno Fernandes",
          "x": 0.251,
          "y": 0.167
         },
         {
          "font": {
           "size": 10
          },
          "showarrow": false,
          "text": "İlkay Gündoğan",
          "x": 0.291,
          "y": 0.317
         },
         {
          "font": {
           "size": 10
          },
          "showarrow": false,
          "text": "Philip Billing",
          "x": 0.161,
          "y": 0.23700000000000002
         },
         {
          "font": {
           "size": 10
          },
          "showarrow": false,
          "text": "Kevin De Bruyne",
          "x": 0.211,
          "y": 0.267
         },
         {
          "font": {
           "size": 10
          },
          "showarrow": false,
          "text": "Granit Xhaka",
          "x": 0.14100000000000001,
          "y": 0.217
         },
         {
          "font": {
           "size": 10
          },
          "showarrow": false,
          "text": "Joelinton",
          "x": 0.241,
          "y": 0.20700000000000002
         },
         {
          "font": {
           "size": 10
          },
          "showarrow": false,
          "text": "Douglas Luiz",
          "x": 0.091,
          "y": 0.187
         },
         {
          "font": {
           "size": 10
          },
          "showarrow": false,
          "text": "Jacob Ramsey",
          "x": 0.171,
          "y": 0.20700000000000002
         },
         {
          "font": {
           "size": 10
          },
          "showarrow": false,
          "text": "Emi Buendía",
          "x": 0.241,
          "y": 0.197
         },
         {
          "font": {
           "size": 10
          },
          "showarrow": false,
          "text": "Morgan Gibbs-White",
          "x": 0.181,
          "y": 0.097
         },
         {
          "font": {
           "size": 10
          },
          "showarrow": false,
          "text": "Carlos Alcaraz",
          "x": 0.171,
          "y": 0.357
         },
         {
          "font": {
           "size": 10
          },
          "showarrow": false,
          "text": "Pierre Højbjerg",
          "x": 0.061,
          "y": 0.117
         },
         {
          "font": {
           "size": 10
          },
          "showarrow": false,
          "text": "Lucas Paquetá",
          "x": 0.181,
          "y": 0.137
         },
         {
          "font": {
           "size": 10
          },
          "showarrow": false,
          "text": "Andreas Pereira",
          "x": 0.241,
          "y": 0.10700000000000001
         },
         {
          "font": {
           "size": 10
          },
          "showarrow": false,
          "text": "Declan Rice",
          "x": 0.07100000000000001,
          "y": 0.117
         },
         {
          "font": {
           "size": 10
          },
          "showarrow": false,
          "text": "Bernardo Silva",
          "x": 0.091,
          "y": 0.167
         },
         {
          "font": {
           "size": 10
          },
          "showarrow": false,
          "text": "Conor Gallagher",
          "x": 0.14100000000000001,
          "y": 0.17700000000000002
         },
         {
          "font": {
           "size": 10
          },
          "showarrow": false,
          "text": "Curtis Jones",
          "x": 0.101,
          "y": 0.267
         },
         {
          "font": {
           "size": 10
          },
          "showarrow": false,
          "text": "Mason Mount",
          "x": 0.111,
          "y": 0.167
         },
         {
          "font": {
           "size": 10
          },
          "showarrow": false,
          "text": "Youri Tielemans",
          "x": 0.101,
          "y": 0.08700000000000001
         },
         {
          "font": {
           "size": 10
          },
          "showarrow": false,
          "text": "Joe Willock",
          "x": 0.251,
          "y": 0.117
         },
         {
          "font": {
           "size": 10
          },
          "showarrow": false,
          "text": "Kiernan Dewsbury-Hall",
          "x": 0.091,
          "y": 0.08700000000000001
         },
         {
          "font": {
           "size": 10
          },
          "showarrow": false,
          "text": "Fred",
          "x": 0.14100000000000001,
          "y": 0.14700000000000002
         },
         {
          "font": {
           "size": 10
          },
          "showarrow": false,
          "text": "Brenden Aaronson",
          "x": 0.151,
          "y": 0.047
         },
         {
          "font": {
           "size": 10
          },
          "showarrow": false,
          "text": "Moisés Caicedo",
          "x": 0.051000000000000004,
          "y": 0.037
         },
         {
          "font": {
           "size": 10
          },
          "showarrow": false,
          "text": "Harvey Elliott",
          "x": 0.121,
          "y": 0.067
         },
         {
          "font": {
           "size": 10
          },
          "showarrow": false,
          "text": "Christian Eriksen",
          "x": 0.221,
          "y": 0.047
         },
         {
          "font": {
           "size": 10
          },
          "showarrow": false,
          "text": "Mateo Kovačić",
          "x": 0.091,
          "y": 0.057
         },
         {
          "font": {
           "size": 10
          },
          "showarrow": false,
          "text": "Sean Longstaff",
          "x": 0.131,
          "y": 0.047
         },
         {
          "font": {
           "size": 10
          },
          "showarrow": false,
          "text": "John McGinn",
          "x": 0.081,
          "y": 0.037
         },
         {
          "font": {
           "size": 10
          },
          "showarrow": false,
          "text": "Scott McTominay",
          "x": 0.151,
          "y": 0.08700000000000001
         },
         {
          "font": {
           "size": 10
          },
          "showarrow": false,
          "text": "Matheus Nunes",
          "x": 0.091,
          "y": 0.047
         },
         {
          "font": {
           "color": "red",
           "size": 12
          },
          "showarrow": false,
          "text": "Less expected goals (Player overperformed)",
          "x": 0.055,
          "y": 0.45
         },
         {
          "font": {
           "color": "green",
           "size": 12
          },
          "showarrow": false,
          "text": "More goals",
          "x": 0.055,
          "y": 0.444
         },
         {
          "font": {
           "color": "green",
           "size": 12
          },
          "showarrow": false,
          "text": "Higher expected goals",
          "x": 0.352,
          "y": 0.45
         },
         {
          "font": {
           "color": "green",
           "size": 12
          },
          "showarrow": false,
          "text": "More goals",
          "x": 0.352,
          "y": 0.444
         },
         {
          "font": {
           "color": "green",
           "size": 12
          },
          "showarrow": false,
          "text": "Higher expected goals",
          "x": 0.352,
          "y": 0.019
         },
         {
          "font": {
           "color": "red",
           "size": 12
          },
          "showarrow": false,
          "text": "Fewer goals (Player underperformed)",
          "x": 0.352,
          "y": 0.013
         },
         {
          "font": {
           "color": "red",
           "size": 12
          },
          "showarrow": false,
          "text": "Less expected goals",
          "x": 0.055,
          "y": 0.019
         },
         {
          "font": {
           "color": "red",
           "size": 12
          },
          "showarrow": false,
          "text": "Fewer goals",
          "x": 0.055,
          "y": 0.013
         }
        ],
        "height": 1700,
        "hoverlabel": {
         "font": {
          "color": "#f5fffe",
          "family": "Calibri",
          "size": 12
         }
        },
        "images": [
         {
          "sizex": 0.01,
          "sizey": 0.01,
          "source": "club-logos\\Arsenal.png",
          "x": 0.29,
          "xanchor": "center",
          "xref": "x",
          "y": 0.43,
          "yanchor": "middle",
          "yref": "y"
         },
         {
          "sizex": 0.01,
          "sizey": 0.01,
          "source": "club-logos\\Crystal Palace.png",
          "x": 0.25,
          "xanchor": "center",
          "xref": "x",
          "y": 0.31,
          "yanchor": "middle",
          "yref": "y"
         },
         {
          "sizex": 0.01,
          "sizey": 0.01,
          "source": "club-logos\\Tottenham.png",
          "x": 0.31,
          "xanchor": "center",
          "xref": "x",
          "y": 0.31,
          "yanchor": "middle",
          "yref": "y"
         },
         {
          "sizex": 0.01,
          "sizey": 0.01,
          "source": "club-logos\\Brighton.png",
          "x": 0.38,
          "xanchor": "center",
          "xref": "x",
          "y": 0.12,
          "yanchor": "middle",
          "yref": "y"
         },
         {
          "sizex": 0.01,
          "sizey": 0.01,
          "source": "club-logos\\Leicester City.png",
          "x": 0.31,
          "xanchor": "center",
          "xref": "x",
          "y": 0.33,
          "yanchor": "middle",
          "yref": "y"
         },
         {
          "sizex": 0.01,
          "sizey": 0.01,
          "source": "club-logos\\Southampton.png",
          "x": 0.15,
          "xanchor": "center",
          "xref": "x",
          "y": 0.19,
          "yanchor": "middle",
          "yref": "y"
         },
         {
          "sizex": 0.01,
          "sizey": 0.01,
          "source": "club-logos\\Manchester Utd.png",
          "x": 0.25,
          "xanchor": "center",
          "xref": "x",
          "y": 0.16,
          "yanchor": "middle",
          "yref": "y"
         },
         {
          "sizex": 0.01,
          "sizey": 0.01,
          "source": "club-logos\\Manchester City.png",
          "x": 0.29,
          "xanchor": "center",
          "xref": "x",
          "y": 0.31,
          "yanchor": "middle",
          "yref": "y"
         },
         {
          "sizex": 0.01,
          "sizey": 0.01,
          "source": "club-logos\\Bournemouth.png",
          "x": 0.16,
          "xanchor": "center",
          "xref": "x",
          "y": 0.23,
          "yanchor": "middle",
          "yref": "y"
         },
         {
          "sizex": 0.01,
          "sizey": 0.01,
          "source": "club-logos\\Manchester City.png",
          "x": 0.21,
          "xanchor": "center",
          "xref": "x",
          "y": 0.26,
          "yanchor": "middle",
          "yref": "y"
         },
         {
          "sizex": 0.01,
          "sizey": 0.01,
          "source": "club-logos\\Arsenal.png",
          "x": 0.14,
          "xanchor": "center",
          "xref": "x",
          "y": 0.21,
          "yanchor": "middle",
          "yref": "y"
         },
         {
          "sizex": 0.01,
          "sizey": 0.01,
          "source": "club-logos\\Newcastle Utd.png",
          "x": 0.24,
          "xanchor": "center",
          "xref": "x",
          "y": 0.2,
          "yanchor": "middle",
          "yref": "y"
         },
         {
          "sizex": 0.01,
          "sizey": 0.01,
          "source": "club-logos\\Aston Villa.png",
          "x": 0.09,
          "xanchor": "center",
          "xref": "x",
          "y": 0.18,
          "yanchor": "middle",
          "yref": "y"
         },
         {
          "sizex": 0.01,
          "sizey": 0.01,
          "source": "club-logos\\Wolves.png",
          "x": 0.15,
          "xanchor": "center",
          "xref": "x",
          "y": 0.09,
          "yanchor": "middle",
          "yref": "y"
         },
         {
          "sizex": 0.01,
          "sizey": 0.01,
          "source": "club-logos\\Aston Villa.png",
          "x": 0.17,
          "xanchor": "center",
          "xref": "x",
          "y": 0.2,
          "yanchor": "middle",
          "yref": "y"
         },
         {
          "sizex": 0.01,
          "sizey": 0.01,
          "source": "club-logos\\Tottenham.png",
          "x": 0.13,
          "xanchor": "center",
          "xref": "x",
          "y": 0.3,
          "yanchor": "middle",
          "yref": "y"
         },
         {
          "sizex": 0.01,
          "sizey": 0.01,
          "source": "club-logos\\Aston Villa.png",
          "x": 0.24,
          "xanchor": "center",
          "xref": "x",
          "y": 0.19,
          "yanchor": "middle",
          "yref": "y"
         },
         {
          "sizex": 0.01,
          "sizey": 0.01,
          "source": "club-logos\\Everton.png",
          "x": 0.14,
          "xanchor": "center",
          "xref": "x",
          "y": 0.29,
          "yanchor": "middle",
          "yref": "y"
         },
         {
          "sizex": 0.01,
          "sizey": 0.01,
          "source": "club-logos\\Nott'ham Forest.png",
          "x": 0.18,
          "xanchor": "center",
          "xref": "x",
          "y": 0.09,
          "yanchor": "middle",
          "yref": "y"
         },
         {
          "sizex": 0.01,
          "sizey": 0.01,
          "source": "club-logos\\Brentford.png",
          "x": 0.07,
          "xanchor": "center",
          "xref": "x",
          "y": 0.16,
          "yanchor": "middle",
          "yref": "y"
         },
         {
          "sizex": 0.01,
          "sizey": 0.01,
          "source": "club-logos\\Bournemouth.png",
          "x": 0.07,
          "xanchor": "center",
          "xref": "x",
          "y": 0.14,
          "yanchor": "middle",
          "yref": "y"
         },
         {
          "sizex": 0.01,
          "sizey": 0.01,
          "source": "club-logos\\Bournemouth.png",
          "x": 0.16,
          "xanchor": "center",
          "xref": "x",
          "y": 0.26,
          "yanchor": "middle",
          "yref": "y"
         },
         {
          "sizex": 0.01,
          "sizey": 0.01,
          "source": "club-logos\\Southampton.png",
          "x": 0.17,
          "xanchor": "center",
          "xref": "x",
          "y": 0.35,
          "yanchor": "middle",
          "yref": "y"
         },
         {
          "sizex": 0.01,
          "sizey": 0.01,
          "source": "club-logos\\Manchester Utd.png",
          "x": 0.14,
          "xanchor": "center",
          "xref": "x",
          "y": 0.17,
          "yanchor": "middle",
          "yref": "y"
         },
         {
          "sizex": 0.01,
          "sizey": 0.01,
          "source": "club-logos\\Brentford.png",
          "x": 0.1,
          "xanchor": "center",
          "xref": "x",
          "y": 0.26,
          "yanchor": "middle",
          "yref": "y"
         },
         {
          "sizex": 0.01,
          "sizey": 0.01,
          "source": "club-logos\\Newcastle Utd.png",
          "x": 0.09,
          "xanchor": "center",
          "xref": "x",
          "y": 0.13,
          "yanchor": "middle",
          "yref": "y"
         },
         {
          "sizex": 0.01,
          "sizey": 0.01,
          "source": "club-logos\\Tottenham.png",
          "x": 0.06,
          "xanchor": "center",
          "xref": "x",
          "y": 0.11,
          "yanchor": "middle",
          "yref": "y"
         },
         {
          "sizex": 0.01,
          "sizey": 0.01,
          "source": "club-logos\\West Ham.png",
          "x": 0.18,
          "xanchor": "center",
          "xref": "x",
          "y": 0.13,
          "yanchor": "middle",
          "yref": "y"
         },
         {
          "sizex": 0.01,
          "sizey": 0.01,
          "source": "club-logos\\Fulham.png",
          "x": 0.24,
          "xanchor": "center",
          "xref": "x",
          "y": 0.1,
          "yanchor": "middle",
          "yref": "y"
         },
         {
          "sizex": 0.01,
          "sizey": 0.01,
          "source": "club-logos\\West Ham.png",
          "x": 0.07,
          "xanchor": "center",
          "xref": "x",
          "y": 0.11,
          "yanchor": "middle",
          "yref": "y"
         },
         {
          "sizex": 0.01,
          "sizey": 0.01,
          "source": "club-logos\\Manchester City.png",
          "x": 0.09,
          "xanchor": "center",
          "xref": "x",
          "y": 0.16,
          "yanchor": "middle",
          "yref": "y"
         },
         {
          "sizex": 0.01,
          "sizey": 0.01,
          "source": "club-logos\\Bournemouth.png",
          "x": 0.16,
          "xanchor": "center",
          "xref": "x",
          "y": 0.21,
          "yanchor": "middle",
          "yref": "y"
         },
         {
          "sizex": 0.01,
          "sizey": 0.01,
          "source": "club-logos\\Chelsea.png",
          "x": 0.14,
          "xanchor": "center",
          "xref": "x",
          "y": 0.17,
          "yanchor": "middle",
          "yref": "y"
         },
         {
          "sizex": 0.01,
          "sizey": 0.01,
          "source": "club-logos\\Liverpool.png",
          "x": 0.1,
          "xanchor": "center",
          "xref": "x",
          "y": 0.26,
          "yanchor": "middle",
          "yref": "y"
         },
         {
          "sizex": 0.01,
          "sizey": 0.01,
          "source": "club-logos\\Chelsea.png",
          "x": 0.11,
          "xanchor": "center",
          "xref": "x",
          "y": 0.16,
          "yanchor": "middle",
          "yref": "y"
         },
         {
          "sizex": 0.01,
          "sizey": 0.01,
          "source": "club-logos\\Fulham.png",
          "x": 0.08,
          "xanchor": "center",
          "xref": "x",
          "y": 0.09,
          "yanchor": "middle",
          "yref": "y"
         },
         {
          "sizex": 0.01,
          "sizey": 0.01,
          "source": "club-logos\\Arsenal.png",
          "x": 0.08,
          "xanchor": "center",
          "xref": "x",
          "y": 0.11,
          "yanchor": "middle",
          "yref": "y"
         },
         {
          "sizex": 0.01,
          "sizey": 0.01,
          "source": "club-logos\\Fulham.png",
          "x": 0.06,
          "xanchor": "center",
          "xref": "x",
          "y": 0.09,
          "yanchor": "middle",
          "yref": "y"
         },
         {
          "sizex": 0.01,
          "sizey": 0.01,
          "source": "club-logos\\Crystal Palace.png",
          "x": 0.11,
          "xanchor": "center",
          "xref": "x",
          "y": 0.11,
          "yanchor": "middle",
          "yref": "y"
         },
         {
          "sizex": 0.01,
          "sizey": 0.01,
          "source": "club-logos\\Leicester City.png",
          "x": 0.1,
          "xanchor": "center",
          "xref": "x",
          "y": 0.08,
          "yanchor": "middle",
          "yref": "y"
         },
         {
          "sizex": 0.01,
          "sizey": 0.01,
          "source": "club-logos\\Newcastle Utd.png",
          "x": 0.25,
          "xanchor": "center",
          "xref": "x",
          "y": 0.11,
          "yanchor": "middle",
          "yref": "y"
         },
         {
          "sizex": 0.01,
          "sizey": 0.01,
          "source": "club-logos\\Southampton.png",
          "x": 0.11,
          "xanchor": "center",
          "xref": "x",
          "y": 0.15,
          "yanchor": "middle",
          "yref": "y"
         },
         {
          "sizex": 0.01,
          "sizey": 0.01,
          "source": "club-logos\\Southampton.png",
          "x": 0.15,
          "xanchor": "center",
          "xref": "x",
          "y": 0.13,
          "yanchor": "middle",
          "yref": "y"
         },
         {
          "sizex": 0.01,
          "sizey": 0.01,
          "source": "club-logos\\Leicester City.png",
          "x": 0.09,
          "xanchor": "center",
          "xref": "x",
          "y": 0.08,
          "yanchor": "middle",
          "yref": "y"
         },
         {
          "sizex": 0.01,
          "sizey": 0.01,
          "source": "club-logos\\Manchester Utd.png",
          "x": 0.14,
          "xanchor": "center",
          "xref": "x",
          "y": 0.14,
          "yanchor": "middle",
          "yref": "y"
         },
         {
          "sizex": 0.01,
          "sizey": 0.01,
          "source": "club-logos\\Everton.png",
          "x": 0.07,
          "xanchor": "center",
          "xref": "x",
          "y": 0.05,
          "yanchor": "middle",
          "yref": "y"
         },
         {
          "sizex": 0.01,
          "sizey": 0.01,
          "source": "club-logos\\Tottenham.png",
          "x": 0.11,
          "xanchor": "center",
          "xref": "x",
          "y": 0.09,
          "yanchor": "middle",
          "yref": "y"
         },
         {
          "sizex": 0.01,
          "sizey": 0.01,
          "source": "club-logos\\Manchester City.png",
          "x": 0.14,
          "xanchor": "center",
          "xref": "x",
          "y": 0.06,
          "yanchor": "middle",
          "yref": "y"
         },
         {
          "sizex": 0.01,
          "sizey": 0.01,
          "source": "club-logos\\West Ham.png",
          "x": 0.13,
          "xanchor": "center",
          "xref": "x",
          "y": 0.06,
          "yanchor": "middle",
          "yref": "y"
         },
         {
          "sizex": 0.01,
          "sizey": 0.01,
          "source": "club-logos\\Leeds United.png",
          "x": 0.15,
          "xanchor": "center",
          "xref": "x",
          "y": 0.04,
          "yanchor": "middle",
          "yref": "y"
         },
         {
          "sizex": 0.01,
          "sizey": 0.01,
          "source": "club-logos\\Brighton.png",
          "x": 0.05,
          "xanchor": "center",
          "xref": "x",
          "y": 0.03,
          "yanchor": "middle",
          "yref": "y"
         },
         {
          "sizex": 0.01,
          "sizey": 0.01,
          "source": "club-logos\\Bournemouth.png",
          "x": 0.14,
          "xanchor": "center",
          "xref": "x",
          "y": 0.05,
          "yanchor": "middle",
          "yref": "y"
         },
         {
          "sizex": 0.01,
          "sizey": 0.01,
          "source": "club-logos\\Liverpool.png",
          "x": 0.12,
          "xanchor": "center",
          "xref": "x",
          "y": 0.06,
          "yanchor": "middle",
          "yref": "y"
         },
         {
          "sizex": 0.01,
          "sizey": 0.01,
          "source": "club-logos\\Southampton.png",
          "x": 0.15,
          "xanchor": "center",
          "xref": "x",
          "y": 0.04,
          "yanchor": "middle",
          "yref": "y"
         },
         {
          "sizex": 0.01,
          "sizey": 0.01,
          "source": "club-logos\\Manchester Utd.png",
          "x": 0.22,
          "xanchor": "center",
          "xref": "x",
          "y": 0.04,
          "yanchor": "middle",
          "yref": "y"
         },
         {
          "sizex": 0.01,
          "sizey": 0.01,
          "source": "club-logos\\Chelsea.png",
          "x": 0.09,
          "xanchor": "center",
          "xref": "x",
          "y": 0.05,
          "yanchor": "middle",
          "yref": "y"
         },
         {
          "sizex": 0.01,
          "sizey": 0.01,
          "source": "club-logos\\Southampton.png",
          "x": 0.02,
          "xanchor": "center",
          "xref": "x",
          "y": 0.04,
          "yanchor": "middle",
          "yref": "y"
         },
         {
          "sizex": 0.01,
          "sizey": 0.01,
          "source": "club-logos\\Newcastle Utd.png",
          "x": 0.13,
          "xanchor": "center",
          "xref": "x",
          "y": 0.04,
          "yanchor": "middle",
          "yref": "y"
         },
         {
          "sizex": 0.01,
          "sizey": 0.01,
          "source": "club-logos\\Nott'ham Forest.png",
          "x": 0.03,
          "xanchor": "center",
          "xref": "x",
          "y": 0.06,
          "yanchor": "middle",
          "yref": "y"
         },
         {
          "sizex": 0.01,
          "sizey": 0.01,
          "source": "club-logos\\Aston Villa.png",
          "x": 0.08,
          "xanchor": "center",
          "xref": "x",
          "y": 0.03,
          "yanchor": "middle",
          "yref": "y"
         },
         {
          "sizex": 0.01,
          "sizey": 0.01,
          "source": "club-logos\\Manchester Utd.png",
          "x": 0.15,
          "xanchor": "center",
          "xref": "x",
          "y": 0.08,
          "yanchor": "middle",
          "yref": "y"
         },
         {
          "sizex": 0.01,
          "sizey": 0.01,
          "source": "club-logos\\Wolves.png",
          "x": 0.09,
          "xanchor": "center",
          "xref": "x",
          "y": 0.04,
          "yanchor": "middle",
          "yref": "y"
         },
         {
          "sizex": 0.01,
          "sizey": 0.01,
          "source": "club-logos\\Brentford.png",
          "x": 0.08,
          "xanchor": "center",
          "xref": "x",
          "y": 0.05,
          "yanchor": "middle",
          "yref": "y"
         },
         {
          "sizex": 0.01,
          "sizey": 0.01,
          "source": "club-logos\\Everton.png",
          "x": 0.11,
          "xanchor": "center",
          "xref": "x",
          "y": 0.04,
          "yanchor": "middle",
          "yref": "y"
         },
         {
          "sizex": 0.01,
          "sizey": 0.01,
          "source": "club-logos\\Bournemouth.png",
          "x": 0.26,
          "xanchor": "center",
          "xref": "x",
          "y": 0.07,
          "yanchor": "middle",
          "yref": "y"
         },
         {
          "sizex": 0.01,
          "sizey": 0.01,
          "source": "club-logos\\Tottenham.png",
          "x": 0.29,
          "xanchor": "center",
          "xref": "x",
          "y": 0.09,
          "yanchor": "middle",
          "yref": "y"
         },
         {
          "sizex": 0.01,
          "sizey": 0.01,
          "source": "club-logos\\Leeds United.png",
          "x": 0.08,
          "xanchor": "center",
          "xref": "x",
          "y": 0.04,
          "yanchor": "middle",
          "yref": "y"
         },
         {
          "sizex": 0.01,
          "sizey": 0.01,
          "source": "club-logos\\Tottenham.png",
          "x": 0.02,
          "xanchor": "center",
          "xref": "x",
          "y": 0.06,
          "yanchor": "middle",
          "yref": "y"
         }
        ],
        "legend": {
         "tracegroupgap": 0
        },
        "margin": {
         "t": 60
        },
        "plot_bgcolor": "#f5fffe",
        "shapes": [
         {
          "line": {
           "color": "red",
           "dash": "dash"
          },
          "type": "line",
          "x0": 0,
          "x1": 1,
          "xref": "x domain",
          "y0": 0.11,
          "y1": 0.11,
          "yref": "y"
         },
         {
          "line": {
           "color": "red",
           "dash": "dash"
          },
          "type": "line",
          "x0": 0.14,
          "x1": 0.14,
          "xref": "x",
          "y0": 0,
          "y1": 1,
          "yref": "y domain"
         }
        ],
        "showlegend": false,
        "template": {
         "data": {
          "bar": [
           {
            "error_x": {
             "color": "#2a3f5f"
            },
            "error_y": {
             "color": "#2a3f5f"
            },
            "marker": {
             "line": {
              "color": "#E5ECF6",
              "width": 0.5
             },
             "pattern": {
              "fillmode": "overlay",
              "size": 10,
              "solidity": 0.2
             }
            },
            "type": "bar"
           }
          ],
          "barpolar": [
           {
            "marker": {
             "line": {
              "color": "#E5ECF6",
              "width": 0.5
             },
             "pattern": {
              "fillmode": "overlay",
              "size": 10,
              "solidity": 0.2
             }
            },
            "type": "barpolar"
           }
          ],
          "carpet": [
           {
            "aaxis": {
             "endlinecolor": "#2a3f5f",
             "gridcolor": "white",
             "linecolor": "white",
             "minorgridcolor": "white",
             "startlinecolor": "#2a3f5f"
            },
            "baxis": {
             "endlinecolor": "#2a3f5f",
             "gridcolor": "white",
             "linecolor": "white",
             "minorgridcolor": "white",
             "startlinecolor": "#2a3f5f"
            },
            "type": "carpet"
           }
          ],
          "choropleth": [
           {
            "colorbar": {
             "outlinewidth": 0,
             "ticks": ""
            },
            "type": "choropleth"
           }
          ],
          "contour": [
           {
            "colorbar": {
             "outlinewidth": 0,
             "ticks": ""
            },
            "colorscale": [
             [
              0,
              "#0d0887"
             ],
             [
              0.1111111111111111,
              "#46039f"
             ],
             [
              0.2222222222222222,
              "#7201a8"
             ],
             [
              0.3333333333333333,
              "#9c179e"
             ],
             [
              0.4444444444444444,
              "#bd3786"
             ],
             [
              0.5555555555555556,
              "#d8576b"
             ],
             [
              0.6666666666666666,
              "#ed7953"
             ],
             [
              0.7777777777777778,
              "#fb9f3a"
             ],
             [
              0.8888888888888888,
              "#fdca26"
             ],
             [
              1,
              "#f0f921"
             ]
            ],
            "type": "contour"
           }
          ],
          "contourcarpet": [
           {
            "colorbar": {
             "outlinewidth": 0,
             "ticks": ""
            },
            "type": "contourcarpet"
           }
          ],
          "heatmap": [
           {
            "colorbar": {
             "outlinewidth": 0,
             "ticks": ""
            },
            "colorscale": [
             [
              0,
              "#0d0887"
             ],
             [
              0.1111111111111111,
              "#46039f"
             ],
             [
              0.2222222222222222,
              "#7201a8"
             ],
             [
              0.3333333333333333,
              "#9c179e"
             ],
             [
              0.4444444444444444,
              "#bd3786"
             ],
             [
              0.5555555555555556,
              "#d8576b"
             ],
             [
              0.6666666666666666,
              "#ed7953"
             ],
             [
              0.7777777777777778,
              "#fb9f3a"
             ],
             [
              0.8888888888888888,
              "#fdca26"
             ],
             [
              1,
              "#f0f921"
             ]
            ],
            "type": "heatmap"
           }
          ],
          "heatmapgl": [
           {
            "colorbar": {
             "outlinewidth": 0,
             "ticks": ""
            },
            "colorscale": [
             [
              0,
              "#0d0887"
             ],
             [
              0.1111111111111111,
              "#46039f"
             ],
             [
              0.2222222222222222,
              "#7201a8"
             ],
             [
              0.3333333333333333,
              "#9c179e"
             ],
             [
              0.4444444444444444,
              "#bd3786"
             ],
             [
              0.5555555555555556,
              "#d8576b"
             ],
             [
              0.6666666666666666,
              "#ed7953"
             ],
             [
              0.7777777777777778,
              "#fb9f3a"
             ],
             [
              0.8888888888888888,
              "#fdca26"
             ],
             [
              1,
              "#f0f921"
             ]
            ],
            "type": "heatmapgl"
           }
          ],
          "histogram": [
           {
            "marker": {
             "pattern": {
              "fillmode": "overlay",
              "size": 10,
              "solidity": 0.2
             }
            },
            "type": "histogram"
           }
          ],
          "histogram2d": [
           {
            "colorbar": {
             "outlinewidth": 0,
             "ticks": ""
            },
            "colorscale": [
             [
              0,
              "#0d0887"
             ],
             [
              0.1111111111111111,
              "#46039f"
             ],
             [
              0.2222222222222222,
              "#7201a8"
             ],
             [
              0.3333333333333333,
              "#9c179e"
             ],
             [
              0.4444444444444444,
              "#bd3786"
             ],
             [
              0.5555555555555556,
              "#d8576b"
             ],
             [
              0.6666666666666666,
              "#ed7953"
             ],
             [
              0.7777777777777778,
              "#fb9f3a"
             ],
             [
              0.8888888888888888,
              "#fdca26"
             ],
             [
              1,
              "#f0f921"
             ]
            ],
            "type": "histogram2d"
           }
          ],
          "histogram2dcontour": [
           {
            "colorbar": {
             "outlinewidth": 0,
             "ticks": ""
            },
            "colorscale": [
             [
              0,
              "#0d0887"
             ],
             [
              0.1111111111111111,
              "#46039f"
             ],
             [
              0.2222222222222222,
              "#7201a8"
             ],
             [
              0.3333333333333333,
              "#9c179e"
             ],
             [
              0.4444444444444444,
              "#bd3786"
             ],
             [
              0.5555555555555556,
              "#d8576b"
             ],
             [
              0.6666666666666666,
              "#ed7953"
             ],
             [
              0.7777777777777778,
              "#fb9f3a"
             ],
             [
              0.8888888888888888,
              "#fdca26"
             ],
             [
              1,
              "#f0f921"
             ]
            ],
            "type": "histogram2dcontour"
           }
          ],
          "mesh3d": [
           {
            "colorbar": {
             "outlinewidth": 0,
             "ticks": ""
            },
            "type": "mesh3d"
           }
          ],
          "parcoords": [
           {
            "line": {
             "colorbar": {
              "outlinewidth": 0,
              "ticks": ""
             }
            },
            "type": "parcoords"
           }
          ],
          "pie": [
           {
            "automargin": true,
            "type": "pie"
           }
          ],
          "scatter": [
           {
            "marker": {
             "colorbar": {
              "outlinewidth": 0,
              "ticks": ""
             }
            },
            "type": "scatter"
           }
          ],
          "scatter3d": [
           {
            "line": {
             "colorbar": {
              "outlinewidth": 0,
              "ticks": ""
             }
            },
            "marker": {
             "colorbar": {
              "outlinewidth": 0,
              "ticks": ""
             }
            },
            "type": "scatter3d"
           }
          ],
          "scattercarpet": [
           {
            "marker": {
             "colorbar": {
              "outlinewidth": 0,
              "ticks": ""
             }
            },
            "type": "scattercarpet"
           }
          ],
          "scattergeo": [
           {
            "marker": {
             "colorbar": {
              "outlinewidth": 0,
              "ticks": ""
             }
            },
            "type": "scattergeo"
           }
          ],
          "scattergl": [
           {
            "marker": {
             "colorbar": {
              "outlinewidth": 0,
              "ticks": ""
             }
            },
            "type": "scattergl"
           }
          ],
          "scattermapbox": [
           {
            "marker": {
             "colorbar": {
              "outlinewidth": 0,
              "ticks": ""
             }
            },
            "type": "scattermapbox"
           }
          ],
          "scatterpolar": [
           {
            "marker": {
             "colorbar": {
              "outlinewidth": 0,
              "ticks": ""
             }
            },
            "type": "scatterpolar"
           }
          ],
          "scatterpolargl": [
           {
            "marker": {
             "colorbar": {
              "outlinewidth": 0,
              "ticks": ""
             }
            },
            "type": "scatterpolargl"
           }
          ],
          "scatterternary": [
           {
            "marker": {
             "colorbar": {
              "outlinewidth": 0,
              "ticks": ""
             }
            },
            "type": "scatterternary"
           }
          ],
          "surface": [
           {
            "colorbar": {
             "outlinewidth": 0,
             "ticks": ""
            },
            "colorscale": [
             [
              0,
              "#0d0887"
             ],
             [
              0.1111111111111111,
              "#46039f"
             ],
             [
              0.2222222222222222,
              "#7201a8"
             ],
             [
              0.3333333333333333,
              "#9c179e"
             ],
             [
              0.4444444444444444,
              "#bd3786"
             ],
             [
              0.5555555555555556,
              "#d8576b"
             ],
             [
              0.6666666666666666,
              "#ed7953"
             ],
             [
              0.7777777777777778,
              "#fb9f3a"
             ],
             [
              0.8888888888888888,
              "#fdca26"
             ],
             [
              1,
              "#f0f921"
             ]
            ],
            "type": "surface"
           }
          ],
          "table": [
           {
            "cells": {
             "fill": {
              "color": "#EBF0F8"
             },
             "line": {
              "color": "white"
             }
            },
            "header": {
             "fill": {
              "color": "#C8D4E3"
             },
             "line": {
              "color": "white"
             }
            },
            "type": "table"
           }
          ]
         },
         "layout": {
          "annotationdefaults": {
           "arrowcolor": "#2a3f5f",
           "arrowhead": 0,
           "arrowwidth": 1
          },
          "autotypenumbers": "strict",
          "coloraxis": {
           "colorbar": {
            "outlinewidth": 0,
            "ticks": ""
           }
          },
          "colorscale": {
           "diverging": [
            [
             0,
             "#8e0152"
            ],
            [
             0.1,
             "#c51b7d"
            ],
            [
             0.2,
             "#de77ae"
            ],
            [
             0.3,
             "#f1b6da"
            ],
            [
             0.4,
             "#fde0ef"
            ],
            [
             0.5,
             "#f7f7f7"
            ],
            [
             0.6,
             "#e6f5d0"
            ],
            [
             0.7,
             "#b8e186"
            ],
            [
             0.8,
             "#7fbc41"
            ],
            [
             0.9,
             "#4d9221"
            ],
            [
             1,
             "#276419"
            ]
           ],
           "sequential": [
            [
             0,
             "#0d0887"
            ],
            [
             0.1111111111111111,
             "#46039f"
            ],
            [
             0.2222222222222222,
             "#7201a8"
            ],
            [
             0.3333333333333333,
             "#9c179e"
            ],
            [
             0.4444444444444444,
             "#bd3786"
            ],
            [
             0.5555555555555556,
             "#d8576b"
            ],
            [
             0.6666666666666666,
             "#ed7953"
            ],
            [
             0.7777777777777778,
             "#fb9f3a"
            ],
            [
             0.8888888888888888,
             "#fdca26"
            ],
            [
             1,
             "#f0f921"
            ]
           ],
           "sequentialminus": [
            [
             0,
             "#0d0887"
            ],
            [
             0.1111111111111111,
             "#46039f"
            ],
            [
             0.2222222222222222,
             "#7201a8"
            ],
            [
             0.3333333333333333,
             "#9c179e"
            ],
            [
             0.4444444444444444,
             "#bd3786"
            ],
            [
             0.5555555555555556,
             "#d8576b"
            ],
            [
             0.6666666666666666,
             "#ed7953"
            ],
            [
             0.7777777777777778,
             "#fb9f3a"
            ],
            [
             0.8888888888888888,
             "#fdca26"
            ],
            [
             1,
             "#f0f921"
            ]
           ]
          },
          "colorway": [
           "#636efa",
           "#EF553B",
           "#00cc96",
           "#ab63fa",
           "#FFA15A",
           "#19d3f3",
           "#FF6692",
           "#B6E880",
           "#FF97FF",
           "#FECB52"
          ],
          "font": {
           "color": "#2a3f5f"
          },
          "geo": {
           "bgcolor": "white",
           "lakecolor": "white",
           "landcolor": "#E5ECF6",
           "showlakes": true,
           "showland": true,
           "subunitcolor": "white"
          },
          "hoverlabel": {
           "align": "left"
          },
          "hovermode": "closest",
          "mapbox": {
           "style": "light"
          },
          "paper_bgcolor": "white",
          "plot_bgcolor": "#E5ECF6",
          "polar": {
           "angularaxis": {
            "gridcolor": "white",
            "linecolor": "white",
            "ticks": ""
           },
           "bgcolor": "#E5ECF6",
           "radialaxis": {
            "gridcolor": "white",
            "linecolor": "white",
            "ticks": ""
           }
          },
          "scene": {
           "xaxis": {
            "backgroundcolor": "#E5ECF6",
            "gridcolor": "white",
            "gridwidth": 2,
            "linecolor": "white",
            "showbackground": true,
            "ticks": "",
            "zerolinecolor": "white"
           },
           "yaxis": {
            "backgroundcolor": "#E5ECF6",
            "gridcolor": "white",
            "gridwidth": 2,
            "linecolor": "white",
            "showbackground": true,
            "ticks": "",
            "zerolinecolor": "white"
           },
           "zaxis": {
            "backgroundcolor": "#E5ECF6",
            "gridcolor": "white",
            "gridwidth": 2,
            "linecolor": "white",
            "showbackground": true,
            "ticks": "",
            "zerolinecolor": "white"
           }
          },
          "shapedefaults": {
           "line": {
            "color": "#2a3f5f"
           }
          },
          "ternary": {
           "aaxis": {
            "gridcolor": "white",
            "linecolor": "white",
            "ticks": ""
           },
           "baxis": {
            "gridcolor": "white",
            "linecolor": "white",
            "ticks": ""
           },
           "bgcolor": "#E5ECF6",
           "caxis": {
            "gridcolor": "white",
            "linecolor": "white",
            "ticks": ""
           }
          },
          "title": {
           "x": 0.05
          },
          "xaxis": {
           "automargin": true,
           "gridcolor": "white",
           "linecolor": "white",
           "ticks": "",
           "title": {
            "standoff": 15
           },
           "zerolinecolor": "white",
           "zerolinewidth": 2
          },
          "yaxis": {
           "automargin": true,
           "gridcolor": "white",
           "linecolor": "white",
           "ticks": "",
           "title": {
            "standoff": 15
           },
           "zerolinecolor": "white",
           "zerolinewidth": 2
          }
         }
        },
        "title": {
         "text": "Non Penalty Goals per 90 minutes vs Expected Goals per 90 minutes (Midfielders)"
        },
        "width": 2000,
        "xaxis": {
         "anchor": "y",
         "domain": [
          0,
          1
         ],
         "title": {
          "text": "xGp90"
         }
        },
        "yaxis": {
         "anchor": "x",
         "domain": [
          0,
          1
         ],
         "title": {
          "text": "npGlsp90"
         }
        }
       }
      },
      "text/html": [
       "<div>                            <div id=\"e7b46f60-af01-4f30-af39-600e6fb24305\" class=\"plotly-graph-div\" style=\"height:1700px; width:2000px;\"></div>            <script type=\"text/javascript\">                require([\"plotly\"], function(Plotly) {                    window.PLOTLYENV=window.PLOTLYENV || {};                                    if (document.getElementById(\"e7b46f60-af01-4f30-af39-600e6fb24305\")) {                    Plotly.newPlot(                        \"e7b46f60-af01-4f30-af39-600e6fb24305\",                        [{\"customdata\":[[\"Martin \\u00d8degaard\"],[\"Eberechi Eze\"],[\"Son Heung-min\"],[\"Alexis Mac Allister\"],[\"James Maddison\"],[\"James Ward-Prowse\"],[\"Bruno Fernandes\"],[\"\\u0130lkay G\\u00fcndo\\u011fan\"],[\"Philip Billing\"],[\"Kevin De Bruyne\"],[\"Granit Xhaka\"],[\"Joelinton\"],[\"Douglas Luiz\"],[\"R\\u00faben Neves\"],[\"Jacob Ramsey\"],[\"Rodrigo Bentancur\"],[\"Emi Buend\\u00eda\"],[\"Abdoulaye Doucour\\u00e9\"],[\"Morgan Gibbs-White\"],[\"Mathias Jensen\"],[\"Jefferson Lerma\"],[\"Marcus Tavernier\"],[\"Carlos Alcaraz\"],[\"Casemiro\"],[\"Josh Dasilva\"],[\"Bruno Guimar\\u00e3es\"],[\"Pierre H\\u00f8jbjerg\"],[\"Lucas Paquet\\u00e1\"],[\"Andreas Pereira\"],[\"Declan Rice\"],[\"Bernardo Silva\"],[\"Jaidon Anthony\"],[\"Conor Gallagher\"],[\"Curtis Jones\"],[\"Mason Mount\"],[\"Jo\\u00e3o Palhinha\"],[\"Thomas Partey\"],[\"Harrison Reed\"],[\"Jeffrey Schlupp\"],[\"Youri Tielemans\"],[\"Joe Willock\"],[\"Joe Aribo\"],[\"Stuart Armstrong\"],[\"Kiernan Dewsbury-Hall\"],[\"Fred\"],[\"Alex Iwobi\"],[\"Dejan Kulusevski\"],[\"Rodri\"],[\"Tom\\u00e1\\u0161 Sou\\u010dek\"],[\"Brenden Aaronson\"],[\"Mois\\u00e9s Caicedo\"],[\"Ryan Christie\"],[\"Harvey Elliott\"],[\"Mohamed Elyounoussi\"],[\"Christian Eriksen\"],[\"Mateo Kova\\u010di\\u0107\"],[\"Rom\\u00e9o Lavia\"],[\"Sean Longstaff\"],[\"Orel Mangala\"],[\"John McGinn\"],[\"Scott McTominay\"],[\"Matheus Nunes\"],[\"Christian N\\u00f8rgaard\"],[\"Amadou Onana\"],[\"Dango Ouattara\"],[\"Richarlison\"],[\"Marc Roca\"],[\"Oliver Skipp\"]],\"hovertemplate\":\"xGp90=%{x}<br>npGlsp90=%{y}<br>Player=%{customdata[0]}<extra></extra>\",\"legendgroup\":\"\",\"marker\":{\"color\":\"#636efa\",\"symbol\":\"circle\"},\"mode\":\"markers\",\"name\":\"\",\"orientation\":\"v\",\"showlegend\":false,\"x\":[0.29,0.25,0.31,0.38,0.31,0.15,0.25,0.29,0.16,0.21,0.14,0.24,0.09,0.15,0.17,0.13,0.24,0.14,0.18,0.07,0.07,0.16,0.17,0.14,0.1,0.09,0.06,0.18,0.24,0.07,0.09,0.16,0.14,0.1,0.11,0.08,0.08,0.06,0.11,0.1,0.25,0.11,0.15,0.09,0.14,0.07,0.11,0.14,0.13,0.15,0.05,0.14,0.12,0.15,0.22,0.09,0.02,0.13,0.03,0.08,0.15,0.09,0.08,0.11,0.26,0.29,0.08,0.02],\"xaxis\":\"x\",\"y\":[0.43,0.31,0.31,0.12,0.33,0.19,0.16,0.31,0.23,0.26,0.21,0.2,0.18,0.09,0.2,0.3,0.19,0.29,0.09,0.16,0.14,0.26,0.35,0.17,0.26,0.13,0.11,0.13,0.1,0.11,0.16,0.21,0.17,0.26,0.16,0.09,0.11,0.09,0.11,0.08,0.11,0.15,0.13,0.08,0.14,0.05,0.09,0.06,0.06,0.04,0.03,0.05,0.06,0.04,0.04,0.05,0.04,0.04,0.06,0.03,0.08,0.04,0.05,0.04,0.07,0.09,0.04,0.06],\"yaxis\":\"y\",\"type\":\"scatter\"}],                        {\"template\":{\"data\":{\"bar\":[{\"error_x\":{\"color\":\"#2a3f5f\"},\"error_y\":{\"color\":\"#2a3f5f\"},\"marker\":{\"line\":{\"color\":\"#E5ECF6\",\"width\":0.5},\"pattern\":{\"fillmode\":\"overlay\",\"size\":10,\"solidity\":0.2}},\"type\":\"bar\"}],\"barpolar\":[{\"marker\":{\"line\":{\"color\":\"#E5ECF6\",\"width\":0.5},\"pattern\":{\"fillmode\":\"overlay\",\"size\":10,\"solidity\":0.2}},\"type\":\"barpolar\"}],\"carpet\":[{\"aaxis\":{\"endlinecolor\":\"#2a3f5f\",\"gridcolor\":\"white\",\"linecolor\":\"white\",\"minorgridcolor\":\"white\",\"startlinecolor\":\"#2a3f5f\"},\"baxis\":{\"endlinecolor\":\"#2a3f5f\",\"gridcolor\":\"white\",\"linecolor\":\"white\",\"minorgridcolor\":\"white\",\"startlinecolor\":\"#2a3f5f\"},\"type\":\"carpet\"}],\"choropleth\":[{\"colorbar\":{\"outlinewidth\":0,\"ticks\":\"\"},\"type\":\"choropleth\"}],\"contour\":[{\"colorbar\":{\"outlinewidth\":0,\"ticks\":\"\"},\"colorscale\":[[0.0,\"#0d0887\"],[0.1111111111111111,\"#46039f\"],[0.2222222222222222,\"#7201a8\"],[0.3333333333333333,\"#9c179e\"],[0.4444444444444444,\"#bd3786\"],[0.5555555555555556,\"#d8576b\"],[0.6666666666666666,\"#ed7953\"],[0.7777777777777778,\"#fb9f3a\"],[0.8888888888888888,\"#fdca26\"],[1.0,\"#f0f921\"]],\"type\":\"contour\"}],\"contourcarpet\":[{\"colorbar\":{\"outlinewidth\":0,\"ticks\":\"\"},\"type\":\"contourcarpet\"}],\"heatmap\":[{\"colorbar\":{\"outlinewidth\":0,\"ticks\":\"\"},\"colorscale\":[[0.0,\"#0d0887\"],[0.1111111111111111,\"#46039f\"],[0.2222222222222222,\"#7201a8\"],[0.3333333333333333,\"#9c179e\"],[0.4444444444444444,\"#bd3786\"],[0.5555555555555556,\"#d8576b\"],[0.6666666666666666,\"#ed7953\"],[0.7777777777777778,\"#fb9f3a\"],[0.8888888888888888,\"#fdca26\"],[1.0,\"#f0f921\"]],\"type\":\"heatmap\"}],\"heatmapgl\":[{\"colorbar\":{\"outlinewidth\":0,\"ticks\":\"\"},\"colorscale\":[[0.0,\"#0d0887\"],[0.1111111111111111,\"#46039f\"],[0.2222222222222222,\"#7201a8\"],[0.3333333333333333,\"#9c179e\"],[0.4444444444444444,\"#bd3786\"],[0.5555555555555556,\"#d8576b\"],[0.6666666666666666,\"#ed7953\"],[0.7777777777777778,\"#fb9f3a\"],[0.8888888888888888,\"#fdca26\"],[1.0,\"#f0f921\"]],\"type\":\"heatmapgl\"}],\"histogram\":[{\"marker\":{\"pattern\":{\"fillmode\":\"overlay\",\"size\":10,\"solidity\":0.2}},\"type\":\"histogram\"}],\"histogram2d\":[{\"colorbar\":{\"outlinewidth\":0,\"ticks\":\"\"},\"colorscale\":[[0.0,\"#0d0887\"],[0.1111111111111111,\"#46039f\"],[0.2222222222222222,\"#7201a8\"],[0.3333333333333333,\"#9c179e\"],[0.4444444444444444,\"#bd3786\"],[0.5555555555555556,\"#d8576b\"],[0.6666666666666666,\"#ed7953\"],[0.7777777777777778,\"#fb9f3a\"],[0.8888888888888888,\"#fdca26\"],[1.0,\"#f0f921\"]],\"type\":\"histogram2d\"}],\"histogram2dcontour\":[{\"colorbar\":{\"outlinewidth\":0,\"ticks\":\"\"},\"colorscale\":[[0.0,\"#0d0887\"],[0.1111111111111111,\"#46039f\"],[0.2222222222222222,\"#7201a8\"],[0.3333333333333333,\"#9c179e\"],[0.4444444444444444,\"#bd3786\"],[0.5555555555555556,\"#d8576b\"],[0.6666666666666666,\"#ed7953\"],[0.7777777777777778,\"#fb9f3a\"],[0.8888888888888888,\"#fdca26\"],[1.0,\"#f0f921\"]],\"type\":\"histogram2dcontour\"}],\"mesh3d\":[{\"colorbar\":{\"outlinewidth\":0,\"ticks\":\"\"},\"type\":\"mesh3d\"}],\"parcoords\":[{\"line\":{\"colorbar\":{\"outlinewidth\":0,\"ticks\":\"\"}},\"type\":\"parcoords\"}],\"pie\":[{\"automargin\":true,\"type\":\"pie\"}],\"scatter\":[{\"marker\":{\"colorbar\":{\"outlinewidth\":0,\"ticks\":\"\"}},\"type\":\"scatter\"}],\"scatter3d\":[{\"line\":{\"colorbar\":{\"outlinewidth\":0,\"ticks\":\"\"}},\"marker\":{\"colorbar\":{\"outlinewidth\":0,\"ticks\":\"\"}},\"type\":\"scatter3d\"}],\"scattercarpet\":[{\"marker\":{\"colorbar\":{\"outlinewidth\":0,\"ticks\":\"\"}},\"type\":\"scattercarpet\"}],\"scattergeo\":[{\"marker\":{\"colorbar\":{\"outlinewidth\":0,\"ticks\":\"\"}},\"type\":\"scattergeo\"}],\"scattergl\":[{\"marker\":{\"colorbar\":{\"outlinewidth\":0,\"ticks\":\"\"}},\"type\":\"scattergl\"}],\"scattermapbox\":[{\"marker\":{\"colorbar\":{\"outlinewidth\":0,\"ticks\":\"\"}},\"type\":\"scattermapbox\"}],\"scatterpolar\":[{\"marker\":{\"colorbar\":{\"outlinewidth\":0,\"ticks\":\"\"}},\"type\":\"scatterpolar\"}],\"scatterpolargl\":[{\"marker\":{\"colorbar\":{\"outlinewidth\":0,\"ticks\":\"\"}},\"type\":\"scatterpolargl\"}],\"scatterternary\":[{\"marker\":{\"colorbar\":{\"outlinewidth\":0,\"ticks\":\"\"}},\"type\":\"scatterternary\"}],\"surface\":[{\"colorbar\":{\"outlinewidth\":0,\"ticks\":\"\"},\"colorscale\":[[0.0,\"#0d0887\"],[0.1111111111111111,\"#46039f\"],[0.2222222222222222,\"#7201a8\"],[0.3333333333333333,\"#9c179e\"],[0.4444444444444444,\"#bd3786\"],[0.5555555555555556,\"#d8576b\"],[0.6666666666666666,\"#ed7953\"],[0.7777777777777778,\"#fb9f3a\"],[0.8888888888888888,\"#fdca26\"],[1.0,\"#f0f921\"]],\"type\":\"surface\"}],\"table\":[{\"cells\":{\"fill\":{\"color\":\"#EBF0F8\"},\"line\":{\"color\":\"white\"}},\"header\":{\"fill\":{\"color\":\"#C8D4E3\"},\"line\":{\"color\":\"white\"}},\"type\":\"table\"}]},\"layout\":{\"annotationdefaults\":{\"arrowcolor\":\"#2a3f5f\",\"arrowhead\":0,\"arrowwidth\":1},\"autotypenumbers\":\"strict\",\"coloraxis\":{\"colorbar\":{\"outlinewidth\":0,\"ticks\":\"\"}},\"colorscale\":{\"diverging\":[[0,\"#8e0152\"],[0.1,\"#c51b7d\"],[0.2,\"#de77ae\"],[0.3,\"#f1b6da\"],[0.4,\"#fde0ef\"],[0.5,\"#f7f7f7\"],[0.6,\"#e6f5d0\"],[0.7,\"#b8e186\"],[0.8,\"#7fbc41\"],[0.9,\"#4d9221\"],[1,\"#276419\"]],\"sequential\":[[0.0,\"#0d0887\"],[0.1111111111111111,\"#46039f\"],[0.2222222222222222,\"#7201a8\"],[0.3333333333333333,\"#9c179e\"],[0.4444444444444444,\"#bd3786\"],[0.5555555555555556,\"#d8576b\"],[0.6666666666666666,\"#ed7953\"],[0.7777777777777778,\"#fb9f3a\"],[0.8888888888888888,\"#fdca26\"],[1.0,\"#f0f921\"]],\"sequentialminus\":[[0.0,\"#0d0887\"],[0.1111111111111111,\"#46039f\"],[0.2222222222222222,\"#7201a8\"],[0.3333333333333333,\"#9c179e\"],[0.4444444444444444,\"#bd3786\"],[0.5555555555555556,\"#d8576b\"],[0.6666666666666666,\"#ed7953\"],[0.7777777777777778,\"#fb9f3a\"],[0.8888888888888888,\"#fdca26\"],[1.0,\"#f0f921\"]]},\"colorway\":[\"#636efa\",\"#EF553B\",\"#00cc96\",\"#ab63fa\",\"#FFA15A\",\"#19d3f3\",\"#FF6692\",\"#B6E880\",\"#FF97FF\",\"#FECB52\"],\"font\":{\"color\":\"#2a3f5f\"},\"geo\":{\"bgcolor\":\"white\",\"lakecolor\":\"white\",\"landcolor\":\"#E5ECF6\",\"showlakes\":true,\"showland\":true,\"subunitcolor\":\"white\"},\"hoverlabel\":{\"align\":\"left\"},\"hovermode\":\"closest\",\"mapbox\":{\"style\":\"light\"},\"paper_bgcolor\":\"white\",\"plot_bgcolor\":\"#E5ECF6\",\"polar\":{\"angularaxis\":{\"gridcolor\":\"white\",\"linecolor\":\"white\",\"ticks\":\"\"},\"bgcolor\":\"#E5ECF6\",\"radialaxis\":{\"gridcolor\":\"white\",\"linecolor\":\"white\",\"ticks\":\"\"}},\"scene\":{\"xaxis\":{\"backgroundcolor\":\"#E5ECF6\",\"gridcolor\":\"white\",\"gridwidth\":2,\"linecolor\":\"white\",\"showbackground\":true,\"ticks\":\"\",\"zerolinecolor\":\"white\"},\"yaxis\":{\"backgroundcolor\":\"#E5ECF6\",\"gridcolor\":\"white\",\"gridwidth\":2,\"linecolor\":\"white\",\"showbackground\":true,\"ticks\":\"\",\"zerolinecolor\":\"white\"},\"zaxis\":{\"backgroundcolor\":\"#E5ECF6\",\"gridcolor\":\"white\",\"gridwidth\":2,\"linecolor\":\"white\",\"showbackground\":true,\"ticks\":\"\",\"zerolinecolor\":\"white\"}},\"shapedefaults\":{\"line\":{\"color\":\"#2a3f5f\"}},\"ternary\":{\"aaxis\":{\"gridcolor\":\"white\",\"linecolor\":\"white\",\"ticks\":\"\"},\"baxis\":{\"gridcolor\":\"white\",\"linecolor\":\"white\",\"ticks\":\"\"},\"bgcolor\":\"#E5ECF6\",\"caxis\":{\"gridcolor\":\"white\",\"linecolor\":\"white\",\"ticks\":\"\"}},\"title\":{\"x\":0.05},\"xaxis\":{\"automargin\":true,\"gridcolor\":\"white\",\"linecolor\":\"white\",\"ticks\":\"\",\"title\":{\"standoff\":15},\"zerolinecolor\":\"white\",\"zerolinewidth\":2},\"yaxis\":{\"automargin\":true,\"gridcolor\":\"white\",\"linecolor\":\"white\",\"ticks\":\"\",\"title\":{\"standoff\":15},\"zerolinecolor\":\"white\",\"zerolinewidth\":2}}},\"xaxis\":{\"anchor\":\"y\",\"domain\":[0.0,1.0],\"title\":{\"text\":\"xGp90\"}},\"yaxis\":{\"anchor\":\"x\",\"domain\":[0.0,1.0],\"title\":{\"text\":\"npGlsp90\"}},\"legend\":{\"tracegroupgap\":0},\"margin\":{\"t\":60},\"shapes\":[{\"line\":{\"color\":\"red\",\"dash\":\"dash\"},\"type\":\"line\",\"x0\":0,\"x1\":1,\"xref\":\"x domain\",\"y0\":0.11,\"y1\":0.11,\"yref\":\"y\"},{\"line\":{\"color\":\"red\",\"dash\":\"dash\"},\"type\":\"line\",\"x0\":0.14,\"x1\":0.14,\"xref\":\"x\",\"y0\":0,\"y1\":1,\"yref\":\"y domain\"}],\"annotations\":[{\"font\":{\"size\":10},\"showarrow\":false,\"text\":\"Martin \\u00d8degaard\",\"x\":0.291,\"y\":0.437},{\"font\":{\"size\":10},\"showarrow\":false,\"text\":\"Alexis Mac Allister\",\"x\":0.381,\"y\":0.127},{\"font\":{\"size\":10},\"showarrow\":false,\"text\":\"James Maddison\",\"x\":0.311,\"y\":0.337},{\"font\":{\"size\":10},\"showarrow\":false,\"text\":\"James Ward-Prowse\",\"x\":0.151,\"y\":0.197},{\"font\":{\"size\":10},\"showarrow\":false,\"text\":\"Bruno Fernandes\",\"x\":0.251,\"y\":0.167},{\"font\":{\"size\":10},\"showarrow\":false,\"text\":\"\\u0130lkay G\\u00fcndo\\u011fan\",\"x\":0.291,\"y\":0.317},{\"font\":{\"size\":10},\"showarrow\":false,\"text\":\"Philip Billing\",\"x\":0.161,\"y\":0.23700000000000002},{\"font\":{\"size\":10},\"showarrow\":false,\"text\":\"Kevin De Bruyne\",\"x\":0.211,\"y\":0.267},{\"font\":{\"size\":10},\"showarrow\":false,\"text\":\"Granit Xhaka\",\"x\":0.14100000000000001,\"y\":0.217},{\"font\":{\"size\":10},\"showarrow\":false,\"text\":\"Joelinton\",\"x\":0.241,\"y\":0.20700000000000002},{\"font\":{\"size\":10},\"showarrow\":false,\"text\":\"Douglas Luiz\",\"x\":0.091,\"y\":0.187},{\"font\":{\"size\":10},\"showarrow\":false,\"text\":\"Jacob Ramsey\",\"x\":0.171,\"y\":0.20700000000000002},{\"font\":{\"size\":10},\"showarrow\":false,\"text\":\"Emi Buend\\u00eda\",\"x\":0.241,\"y\":0.197},{\"font\":{\"size\":10},\"showarrow\":false,\"text\":\"Morgan Gibbs-White\",\"x\":0.181,\"y\":0.097},{\"font\":{\"size\":10},\"showarrow\":false,\"text\":\"Carlos Alcaraz\",\"x\":0.171,\"y\":0.357},{\"font\":{\"size\":10},\"showarrow\":false,\"text\":\"Pierre H\\u00f8jbjerg\",\"x\":0.061,\"y\":0.117},{\"font\":{\"size\":10},\"showarrow\":false,\"text\":\"Lucas Paquet\\u00e1\",\"x\":0.181,\"y\":0.137},{\"font\":{\"size\":10},\"showarrow\":false,\"text\":\"Andreas Pereira\",\"x\":0.241,\"y\":0.10700000000000001},{\"font\":{\"size\":10},\"showarrow\":false,\"text\":\"Declan Rice\",\"x\":0.07100000000000001,\"y\":0.117},{\"font\":{\"size\":10},\"showarrow\":false,\"text\":\"Bernardo Silva\",\"x\":0.091,\"y\":0.167},{\"font\":{\"size\":10},\"showarrow\":false,\"text\":\"Conor Gallagher\",\"x\":0.14100000000000001,\"y\":0.17700000000000002},{\"font\":{\"size\":10},\"showarrow\":false,\"text\":\"Curtis Jones\",\"x\":0.101,\"y\":0.267},{\"font\":{\"size\":10},\"showarrow\":false,\"text\":\"Mason Mount\",\"x\":0.111,\"y\":0.167},{\"font\":{\"size\":10},\"showarrow\":false,\"text\":\"Youri Tielemans\",\"x\":0.101,\"y\":0.08700000000000001},{\"font\":{\"size\":10},\"showarrow\":false,\"text\":\"Joe Willock\",\"x\":0.251,\"y\":0.117},{\"font\":{\"size\":10},\"showarrow\":false,\"text\":\"Kiernan Dewsbury-Hall\",\"x\":0.091,\"y\":0.08700000000000001},{\"font\":{\"size\":10},\"showarrow\":false,\"text\":\"Fred\",\"x\":0.14100000000000001,\"y\":0.14700000000000002},{\"font\":{\"size\":10},\"showarrow\":false,\"text\":\"Brenden Aaronson\",\"x\":0.151,\"y\":0.047},{\"font\":{\"size\":10},\"showarrow\":false,\"text\":\"Mois\\u00e9s Caicedo\",\"x\":0.051000000000000004,\"y\":0.037},{\"font\":{\"size\":10},\"showarrow\":false,\"text\":\"Harvey Elliott\",\"x\":0.121,\"y\":0.067},{\"font\":{\"size\":10},\"showarrow\":false,\"text\":\"Christian Eriksen\",\"x\":0.221,\"y\":0.047},{\"font\":{\"size\":10},\"showarrow\":false,\"text\":\"Mateo Kova\\u010di\\u0107\",\"x\":0.091,\"y\":0.057},{\"font\":{\"size\":10},\"showarrow\":false,\"text\":\"Sean Longstaff\",\"x\":0.131,\"y\":0.047},{\"font\":{\"size\":10},\"showarrow\":false,\"text\":\"John McGinn\",\"x\":0.081,\"y\":0.037},{\"font\":{\"size\":10},\"showarrow\":false,\"text\":\"Scott McTominay\",\"x\":0.151,\"y\":0.08700000000000001},{\"font\":{\"size\":10},\"showarrow\":false,\"text\":\"Matheus Nunes\",\"x\":0.091,\"y\":0.047},{\"font\":{\"color\":\"red\",\"size\":12},\"showarrow\":false,\"text\":\"Less expected goals (Player overperformed)\",\"x\":0.055,\"y\":0.45},{\"font\":{\"color\":\"green\",\"size\":12},\"showarrow\":false,\"text\":\"More goals\",\"x\":0.055,\"y\":0.444},{\"font\":{\"color\":\"green\",\"size\":12},\"showarrow\":false,\"text\":\"Higher expected goals\",\"x\":0.352,\"y\":0.45},{\"font\":{\"color\":\"green\",\"size\":12},\"showarrow\":false,\"text\":\"More goals\",\"x\":0.352,\"y\":0.444},{\"font\":{\"color\":\"green\",\"size\":12},\"showarrow\":false,\"text\":\"Higher expected goals\",\"x\":0.352,\"y\":0.019},{\"font\":{\"color\":\"red\",\"size\":12},\"showarrow\":false,\"text\":\"Fewer goals (Player underperformed)\",\"x\":0.352,\"y\":0.013},{\"font\":{\"color\":\"red\",\"size\":12},\"showarrow\":false,\"text\":\"Less expected goals\",\"x\":0.055,\"y\":0.019},{\"font\":{\"color\":\"red\",\"size\":12},\"showarrow\":false,\"text\":\"Fewer goals\",\"x\":0.055,\"y\":0.013}],\"images\":[{\"sizex\":0.01,\"sizey\":0.01,\"source\":\"club-logos\\\\Arsenal.png\",\"x\":0.29,\"xanchor\":\"center\",\"xref\":\"x\",\"y\":0.43,\"yanchor\":\"middle\",\"yref\":\"y\"},{\"sizex\":0.01,\"sizey\":0.01,\"source\":\"club-logos\\\\Crystal Palace.png\",\"x\":0.25,\"xanchor\":\"center\",\"xref\":\"x\",\"y\":0.31,\"yanchor\":\"middle\",\"yref\":\"y\"},{\"sizex\":0.01,\"sizey\":0.01,\"source\":\"club-logos\\\\Tottenham.png\",\"x\":0.31,\"xanchor\":\"center\",\"xref\":\"x\",\"y\":0.31,\"yanchor\":\"middle\",\"yref\":\"y\"},{\"sizex\":0.01,\"sizey\":0.01,\"source\":\"club-logos\\\\Brighton.png\",\"x\":0.38,\"xanchor\":\"center\",\"xref\":\"x\",\"y\":0.12,\"yanchor\":\"middle\",\"yref\":\"y\"},{\"sizex\":0.01,\"sizey\":0.01,\"source\":\"club-logos\\\\Leicester City.png\",\"x\":0.31,\"xanchor\":\"center\",\"xref\":\"x\",\"y\":0.33,\"yanchor\":\"middle\",\"yref\":\"y\"},{\"sizex\":0.01,\"sizey\":0.01,\"source\":\"club-logos\\\\Southampton.png\",\"x\":0.15,\"xanchor\":\"center\",\"xref\":\"x\",\"y\":0.19,\"yanchor\":\"middle\",\"yref\":\"y\"},{\"sizex\":0.01,\"sizey\":0.01,\"source\":\"club-logos\\\\Manchester Utd.png\",\"x\":0.25,\"xanchor\":\"center\",\"xref\":\"x\",\"y\":0.16,\"yanchor\":\"middle\",\"yref\":\"y\"},{\"sizex\":0.01,\"sizey\":0.01,\"source\":\"club-logos\\\\Manchester City.png\",\"x\":0.29,\"xanchor\":\"center\",\"xref\":\"x\",\"y\":0.31,\"yanchor\":\"middle\",\"yref\":\"y\"},{\"sizex\":0.01,\"sizey\":0.01,\"source\":\"club-logos\\\\Bournemouth.png\",\"x\":0.16,\"xanchor\":\"center\",\"xref\":\"x\",\"y\":0.23,\"yanchor\":\"middle\",\"yref\":\"y\"},{\"sizex\":0.01,\"sizey\":0.01,\"source\":\"club-logos\\\\Manchester City.png\",\"x\":0.21,\"xanchor\":\"center\",\"xref\":\"x\",\"y\":0.26,\"yanchor\":\"middle\",\"yref\":\"y\"},{\"sizex\":0.01,\"sizey\":0.01,\"source\":\"club-logos\\\\Arsenal.png\",\"x\":0.14,\"xanchor\":\"center\",\"xref\":\"x\",\"y\":0.21,\"yanchor\":\"middle\",\"yref\":\"y\"},{\"sizex\":0.01,\"sizey\":0.01,\"source\":\"club-logos\\\\Newcastle Utd.png\",\"x\":0.24,\"xanchor\":\"center\",\"xref\":\"x\",\"y\":0.2,\"yanchor\":\"middle\",\"yref\":\"y\"},{\"sizex\":0.01,\"sizey\":0.01,\"source\":\"club-logos\\\\Aston Villa.png\",\"x\":0.09,\"xanchor\":\"center\",\"xref\":\"x\",\"y\":0.18,\"yanchor\":\"middle\",\"yref\":\"y\"},{\"sizex\":0.01,\"sizey\":0.01,\"source\":\"club-logos\\\\Wolves.png\",\"x\":0.15,\"xanchor\":\"center\",\"xref\":\"x\",\"y\":0.09,\"yanchor\":\"middle\",\"yref\":\"y\"},{\"sizex\":0.01,\"sizey\":0.01,\"source\":\"club-logos\\\\Aston Villa.png\",\"x\":0.17,\"xanchor\":\"center\",\"xref\":\"x\",\"y\":0.2,\"yanchor\":\"middle\",\"yref\":\"y\"},{\"sizex\":0.01,\"sizey\":0.01,\"source\":\"club-logos\\\\Tottenham.png\",\"x\":0.13,\"xanchor\":\"center\",\"xref\":\"x\",\"y\":0.3,\"yanchor\":\"middle\",\"yref\":\"y\"},{\"sizex\":0.01,\"sizey\":0.01,\"source\":\"club-logos\\\\Aston Villa.png\",\"x\":0.24,\"xanchor\":\"center\",\"xref\":\"x\",\"y\":0.19,\"yanchor\":\"middle\",\"yref\":\"y\"},{\"sizex\":0.01,\"sizey\":0.01,\"source\":\"club-logos\\\\Everton.png\",\"x\":0.14,\"xanchor\":\"center\",\"xref\":\"x\",\"y\":0.29,\"yanchor\":\"middle\",\"yref\":\"y\"},{\"sizex\":0.01,\"sizey\":0.01,\"source\":\"club-logos\\\\Nott'ham Forest.png\",\"x\":0.18,\"xanchor\":\"center\",\"xref\":\"x\",\"y\":0.09,\"yanchor\":\"middle\",\"yref\":\"y\"},{\"sizex\":0.01,\"sizey\":0.01,\"source\":\"club-logos\\\\Brentford.png\",\"x\":0.07,\"xanchor\":\"center\",\"xref\":\"x\",\"y\":0.16,\"yanchor\":\"middle\",\"yref\":\"y\"},{\"sizex\":0.01,\"sizey\":0.01,\"source\":\"club-logos\\\\Bournemouth.png\",\"x\":0.07,\"xanchor\":\"center\",\"xref\":\"x\",\"y\":0.14,\"yanchor\":\"middle\",\"yref\":\"y\"},{\"sizex\":0.01,\"sizey\":0.01,\"source\":\"club-logos\\\\Bournemouth.png\",\"x\":0.16,\"xanchor\":\"center\",\"xref\":\"x\",\"y\":0.26,\"yanchor\":\"middle\",\"yref\":\"y\"},{\"sizex\":0.01,\"sizey\":0.01,\"source\":\"club-logos\\\\Southampton.png\",\"x\":0.17,\"xanchor\":\"center\",\"xref\":\"x\",\"y\":0.35,\"yanchor\":\"middle\",\"yref\":\"y\"},{\"sizex\":0.01,\"sizey\":0.01,\"source\":\"club-logos\\\\Manchester Utd.png\",\"x\":0.14,\"xanchor\":\"center\",\"xref\":\"x\",\"y\":0.17,\"yanchor\":\"middle\",\"yref\":\"y\"},{\"sizex\":0.01,\"sizey\":0.01,\"source\":\"club-logos\\\\Brentford.png\",\"x\":0.1,\"xanchor\":\"center\",\"xref\":\"x\",\"y\":0.26,\"yanchor\":\"middle\",\"yref\":\"y\"},{\"sizex\":0.01,\"sizey\":0.01,\"source\":\"club-logos\\\\Newcastle Utd.png\",\"x\":0.09,\"xanchor\":\"center\",\"xref\":\"x\",\"y\":0.13,\"yanchor\":\"middle\",\"yref\":\"y\"},{\"sizex\":0.01,\"sizey\":0.01,\"source\":\"club-logos\\\\Tottenham.png\",\"x\":0.06,\"xanchor\":\"center\",\"xref\":\"x\",\"y\":0.11,\"yanchor\":\"middle\",\"yref\":\"y\"},{\"sizex\":0.01,\"sizey\":0.01,\"source\":\"club-logos\\\\West Ham.png\",\"x\":0.18,\"xanchor\":\"center\",\"xref\":\"x\",\"y\":0.13,\"yanchor\":\"middle\",\"yref\":\"y\"},{\"sizex\":0.01,\"sizey\":0.01,\"source\":\"club-logos\\\\Fulham.png\",\"x\":0.24,\"xanchor\":\"center\",\"xref\":\"x\",\"y\":0.1,\"yanchor\":\"middle\",\"yref\":\"y\"},{\"sizex\":0.01,\"sizey\":0.01,\"source\":\"club-logos\\\\West Ham.png\",\"x\":0.07,\"xanchor\":\"center\",\"xref\":\"x\",\"y\":0.11,\"yanchor\":\"middle\",\"yref\":\"y\"},{\"sizex\":0.01,\"sizey\":0.01,\"source\":\"club-logos\\\\Manchester City.png\",\"x\":0.09,\"xanchor\":\"center\",\"xref\":\"x\",\"y\":0.16,\"yanchor\":\"middle\",\"yref\":\"y\"},{\"sizex\":0.01,\"sizey\":0.01,\"source\":\"club-logos\\\\Bournemouth.png\",\"x\":0.16,\"xanchor\":\"center\",\"xref\":\"x\",\"y\":0.21,\"yanchor\":\"middle\",\"yref\":\"y\"},{\"sizex\":0.01,\"sizey\":0.01,\"source\":\"club-logos\\\\Chelsea.png\",\"x\":0.14,\"xanchor\":\"center\",\"xref\":\"x\",\"y\":0.17,\"yanchor\":\"middle\",\"yref\":\"y\"},{\"sizex\":0.01,\"sizey\":0.01,\"source\":\"club-logos\\\\Liverpool.png\",\"x\":0.1,\"xanchor\":\"center\",\"xref\":\"x\",\"y\":0.26,\"yanchor\":\"middle\",\"yref\":\"y\"},{\"sizex\":0.01,\"sizey\":0.01,\"source\":\"club-logos\\\\Chelsea.png\",\"x\":0.11,\"xanchor\":\"center\",\"xref\":\"x\",\"y\":0.16,\"yanchor\":\"middle\",\"yref\":\"y\"},{\"sizex\":0.01,\"sizey\":0.01,\"source\":\"club-logos\\\\Fulham.png\",\"x\":0.08,\"xanchor\":\"center\",\"xref\":\"x\",\"y\":0.09,\"yanchor\":\"middle\",\"yref\":\"y\"},{\"sizex\":0.01,\"sizey\":0.01,\"source\":\"club-logos\\\\Arsenal.png\",\"x\":0.08,\"xanchor\":\"center\",\"xref\":\"x\",\"y\":0.11,\"yanchor\":\"middle\",\"yref\":\"y\"},{\"sizex\":0.01,\"sizey\":0.01,\"source\":\"club-logos\\\\Fulham.png\",\"x\":0.06,\"xanchor\":\"center\",\"xref\":\"x\",\"y\":0.09,\"yanchor\":\"middle\",\"yref\":\"y\"},{\"sizex\":0.01,\"sizey\":0.01,\"source\":\"club-logos\\\\Crystal Palace.png\",\"x\":0.11,\"xanchor\":\"center\",\"xref\":\"x\",\"y\":0.11,\"yanchor\":\"middle\",\"yref\":\"y\"},{\"sizex\":0.01,\"sizey\":0.01,\"source\":\"club-logos\\\\Leicester City.png\",\"x\":0.1,\"xanchor\":\"center\",\"xref\":\"x\",\"y\":0.08,\"yanchor\":\"middle\",\"yref\":\"y\"},{\"sizex\":0.01,\"sizey\":0.01,\"source\":\"club-logos\\\\Newcastle Utd.png\",\"x\":0.25,\"xanchor\":\"center\",\"xref\":\"x\",\"y\":0.11,\"yanchor\":\"middle\",\"yref\":\"y\"},{\"sizex\":0.01,\"sizey\":0.01,\"source\":\"club-logos\\\\Southampton.png\",\"x\":0.11,\"xanchor\":\"center\",\"xref\":\"x\",\"y\":0.15,\"yanchor\":\"middle\",\"yref\":\"y\"},{\"sizex\":0.01,\"sizey\":0.01,\"source\":\"club-logos\\\\Southampton.png\",\"x\":0.15,\"xanchor\":\"center\",\"xref\":\"x\",\"y\":0.13,\"yanchor\":\"middle\",\"yref\":\"y\"},{\"sizex\":0.01,\"sizey\":0.01,\"source\":\"club-logos\\\\Leicester City.png\",\"x\":0.09,\"xanchor\":\"center\",\"xref\":\"x\",\"y\":0.08,\"yanchor\":\"middle\",\"yref\":\"y\"},{\"sizex\":0.01,\"sizey\":0.01,\"source\":\"club-logos\\\\Manchester Utd.png\",\"x\":0.14,\"xanchor\":\"center\",\"xref\":\"x\",\"y\":0.14,\"yanchor\":\"middle\",\"yref\":\"y\"},{\"sizex\":0.01,\"sizey\":0.01,\"source\":\"club-logos\\\\Everton.png\",\"x\":0.07,\"xanchor\":\"center\",\"xref\":\"x\",\"y\":0.05,\"yanchor\":\"middle\",\"yref\":\"y\"},{\"sizex\":0.01,\"sizey\":0.01,\"source\":\"club-logos\\\\Tottenham.png\",\"x\":0.11,\"xanchor\":\"center\",\"xref\":\"x\",\"y\":0.09,\"yanchor\":\"middle\",\"yref\":\"y\"},{\"sizex\":0.01,\"sizey\":0.01,\"source\":\"club-logos\\\\Manchester City.png\",\"x\":0.14,\"xanchor\":\"center\",\"xref\":\"x\",\"y\":0.06,\"yanchor\":\"middle\",\"yref\":\"y\"},{\"sizex\":0.01,\"sizey\":0.01,\"source\":\"club-logos\\\\West Ham.png\",\"x\":0.13,\"xanchor\":\"center\",\"xref\":\"x\",\"y\":0.06,\"yanchor\":\"middle\",\"yref\":\"y\"},{\"sizex\":0.01,\"sizey\":0.01,\"source\":\"club-logos\\\\Leeds United.png\",\"x\":0.15,\"xanchor\":\"center\",\"xref\":\"x\",\"y\":0.04,\"yanchor\":\"middle\",\"yref\":\"y\"},{\"sizex\":0.01,\"sizey\":0.01,\"source\":\"club-logos\\\\Brighton.png\",\"x\":0.05,\"xanchor\":\"center\",\"xref\":\"x\",\"y\":0.03,\"yanchor\":\"middle\",\"yref\":\"y\"},{\"sizex\":0.01,\"sizey\":0.01,\"source\":\"club-logos\\\\Bournemouth.png\",\"x\":0.14,\"xanchor\":\"center\",\"xref\":\"x\",\"y\":0.05,\"yanchor\":\"middle\",\"yref\":\"y\"},{\"sizex\":0.01,\"sizey\":0.01,\"source\":\"club-logos\\\\Liverpool.png\",\"x\":0.12,\"xanchor\":\"center\",\"xref\":\"x\",\"y\":0.06,\"yanchor\":\"middle\",\"yref\":\"y\"},{\"sizex\":0.01,\"sizey\":0.01,\"source\":\"club-logos\\\\Southampton.png\",\"x\":0.15,\"xanchor\":\"center\",\"xref\":\"x\",\"y\":0.04,\"yanchor\":\"middle\",\"yref\":\"y\"},{\"sizex\":0.01,\"sizey\":0.01,\"source\":\"club-logos\\\\Manchester Utd.png\",\"x\":0.22,\"xanchor\":\"center\",\"xref\":\"x\",\"y\":0.04,\"yanchor\":\"middle\",\"yref\":\"y\"},{\"sizex\":0.01,\"sizey\":0.01,\"source\":\"club-logos\\\\Chelsea.png\",\"x\":0.09,\"xanchor\":\"center\",\"xref\":\"x\",\"y\":0.05,\"yanchor\":\"middle\",\"yref\":\"y\"},{\"sizex\":0.01,\"sizey\":0.01,\"source\":\"club-logos\\\\Southampton.png\",\"x\":0.02,\"xanchor\":\"center\",\"xref\":\"x\",\"y\":0.04,\"yanchor\":\"middle\",\"yref\":\"y\"},{\"sizex\":0.01,\"sizey\":0.01,\"source\":\"club-logos\\\\Newcastle Utd.png\",\"x\":0.13,\"xanchor\":\"center\",\"xref\":\"x\",\"y\":0.04,\"yanchor\":\"middle\",\"yref\":\"y\"},{\"sizex\":0.01,\"sizey\":0.01,\"source\":\"club-logos\\\\Nott'ham Forest.png\",\"x\":0.03,\"xanchor\":\"center\",\"xref\":\"x\",\"y\":0.06,\"yanchor\":\"middle\",\"yref\":\"y\"},{\"sizex\":0.01,\"sizey\":0.01,\"source\":\"club-logos\\\\Aston Villa.png\",\"x\":0.08,\"xanchor\":\"center\",\"xref\":\"x\",\"y\":0.03,\"yanchor\":\"middle\",\"yref\":\"y\"},{\"sizex\":0.01,\"sizey\":0.01,\"source\":\"club-logos\\\\Manchester Utd.png\",\"x\":0.15,\"xanchor\":\"center\",\"xref\":\"x\",\"y\":0.08,\"yanchor\":\"middle\",\"yref\":\"y\"},{\"sizex\":0.01,\"sizey\":0.01,\"source\":\"club-logos\\\\Wolves.png\",\"x\":0.09,\"xanchor\":\"center\",\"xref\":\"x\",\"y\":0.04,\"yanchor\":\"middle\",\"yref\":\"y\"},{\"sizex\":0.01,\"sizey\":0.01,\"source\":\"club-logos\\\\Brentford.png\",\"x\":0.08,\"xanchor\":\"center\",\"xref\":\"x\",\"y\":0.05,\"yanchor\":\"middle\",\"yref\":\"y\"},{\"sizex\":0.01,\"sizey\":0.01,\"source\":\"club-logos\\\\Everton.png\",\"x\":0.11,\"xanchor\":\"center\",\"xref\":\"x\",\"y\":0.04,\"yanchor\":\"middle\",\"yref\":\"y\"},{\"sizex\":0.01,\"sizey\":0.01,\"source\":\"club-logos\\\\Bournemouth.png\",\"x\":0.26,\"xanchor\":\"center\",\"xref\":\"x\",\"y\":0.07,\"yanchor\":\"middle\",\"yref\":\"y\"},{\"sizex\":0.01,\"sizey\":0.01,\"source\":\"club-logos\\\\Tottenham.png\",\"x\":0.29,\"xanchor\":\"center\",\"xref\":\"x\",\"y\":0.09,\"yanchor\":\"middle\",\"yref\":\"y\"},{\"sizex\":0.01,\"sizey\":0.01,\"source\":\"club-logos\\\\Leeds United.png\",\"x\":0.08,\"xanchor\":\"center\",\"xref\":\"x\",\"y\":0.04,\"yanchor\":\"middle\",\"yref\":\"y\"},{\"sizex\":0.01,\"sizey\":0.01,\"source\":\"club-logos\\\\Tottenham.png\",\"x\":0.02,\"xanchor\":\"center\",\"xref\":\"x\",\"y\":0.06,\"yanchor\":\"middle\",\"yref\":\"y\"}],\"title\":{\"text\":\"Non Penalty Goals per 90 minutes vs Expected Goals per 90 minutes (Midfielders)\"},\"hoverlabel\":{\"font\":{\"family\":\"Calibri\",\"size\":12,\"color\":\"#f5fffe\"}},\"width\":2000,\"height\":1700,\"plot_bgcolor\":\"#f5fffe\",\"showlegend\":false},                        {\"responsive\": true}                    ).then(function(){\n",
       "                            \n",
       "var gd = document.getElementById('e7b46f60-af01-4f30-af39-600e6fb24305');\n",
       "var x = new MutationObserver(function (mutations, observer) {{\n",
       "        var display = window.getComputedStyle(gd).display;\n",
       "        if (!display || display === 'none') {{\n",
       "            console.log([gd, 'removed!']);\n",
       "            Plotly.purge(gd);\n",
       "            observer.disconnect();\n",
       "        }}\n",
       "}});\n",
       "\n",
       "// Listen for the removal of the full notebook cells\n",
       "var notebookContainer = gd.closest('#notebook-container');\n",
       "if (notebookContainer) {{\n",
       "    x.observe(notebookContainer, {childList: true});\n",
       "}}\n",
       "\n",
       "// Listen for the clearing of the current output cell\n",
       "var outputEl = gd.closest('.output');\n",
       "if (outputEl) {{\n",
       "    x.observe(outputEl, {childList: true});\n",
       "}}\n",
       "\n",
       "                        })                };                });            </script>        </div>"
      ]
     },
     "metadata": {},
     "output_type": "display_data"
    }
   ],
   "source": [
    "import plotly.express as px\n",
    "import plotly.graph_objects as go\n",
    "import os\n",
    "\n",
    "# Create the figure\n",
    "fig = px.scatter(midfielders, x='xGp90', y='npGlsp90', hover_data=['Player'])\n",
    "\n",
    "# Calculate median values for x and y variables\n",
    "x_median = midfielders['xGp90'].median()\n",
    "y_median = midfielders['npGlsp90'].median()\n",
    "\n",
    "# Add median lines\n",
    "fig.add_hline(y=y_median, line_dash=\"dash\", line_color=\"red\")\n",
    "fig.add_vline(x=x_median, line_dash=\"dash\", line_color=\"red\")\n",
    "\n",
    "# Add annotations for player names\n",
    "for i, player in midfielders.iterrows():\n",
    "    if player['Player'] in show_names:\n",
    "        fig.add_annotation(x=player['xGp90']+0.001, y=player['npGlsp90']+0.007, text=player['Player'], showarrow=False, font=dict(size=10))\n",
    "\n",
    "# Add club logos for selected data points\n",
    "for i, player in midfielders.iterrows():\n",
    "    img_path = f\"club-logos\\\\{player['Squad']}.png\"\n",
    "    image = go.layout.Image(source=img_path, x=player['xGp90'], y=player['npGlsp90'], sizex=0.01, sizey=0.01, xref='x', yref='y', xanchor='center', yanchor='middle')\n",
    "    fig.add_layout_image(image)\n",
    "    \n",
    "# Set axis labels and title\n",
    "fig.update_layout(xaxis_title='xGp90', yaxis_title='npGlsp90', title='Non Penalty Goals per 90 minutes vs Expected Goals per 90 minutes (Midfielders)')\n",
    "\n",
    "# Add quadrants explanation\n",
    "fig.add_annotation(x=0.055, y=0.45, text=\"Less expected goals (Player overperformed)\", showarrow=False, font=dict(color=\"red\", size=12))\n",
    "fig.add_annotation(x=0.055, y=0.444, text=\"More goals\", showarrow=False, font=dict(color=\"green\", size=12))\n",
    "\n",
    "fig.add_annotation(x=0.352, y=0.45, text=\"Higher expected goals\", showarrow=False, font=dict(color=\"green\", size=12))\n",
    "fig.add_annotation(x=0.352, y=0.444, text=\"More goals\", showarrow=False, font=dict(color=\"green\", size=12))\n",
    "\n",
    "fig.add_annotation(x=0.352, y=0.019, text=\"Higher expected goals\", showarrow=False, font=dict(color=\"green\", size=12))\n",
    "fig.add_annotation(x=0.352, y=0.013, text=\"Fewer goals (Player underperformed)\", showarrow=False, font=dict(color=\"red\", size=12))\n",
    "\n",
    "fig.add_annotation(x=0.055, y=0.019, text=\"Less expected goals\", showarrow=False, font=dict(color=\"red\", size=12))\n",
    "fig.add_annotation(x=0.055, y=0.013, text=\"Fewer goals\", showarrow=False, font=dict(color=\"red\", size=12))\n",
    "\n",
    "# Update layout\n",
    "# fig.update_layout(showlegend=False, hoverlabel=dict(font=dict(size=12)))\n",
    "\n",
    "x_mcallister = (midfielders[midfielders['Player'] == 'Alexis Mac Allister'])['xGp90']\n",
    "y_mcallister = (midfielders[midfielders['Player'] == 'Alexis Mac Allister'])['npGlsp90']\n",
    "\n",
    "# nl = '\\n'\n",
    "\n",
    "# fig.add_annotation(x=0.376,y=0.12,xref=\"x\",yref=\"y\",text=f\"Alexis Mac Allister \\r\\n Goals per 90: {x_mcallister.values[0]} {nl} xG per 90: {y_mcallister.values[0]}\",showarrow=True,\n",
    "#         font=dict(family=\"Courier New, monospace\", size=16, color=\"#d0efff\"),\n",
    "#         align=\"center\", arrowhead=0, arrowsize=1, arrowwidth=1, arrowcolor=\"#187BCD\", ax=-120, ay=-40, bordercolor=\"#c7c7c7\",\n",
    "#         borderwidth=2, borderpad=2, bgcolor=\"#187BCD\", opacity=0.8)\n",
    "\n",
    "fig.update_layout(width=2000, height=1700, plot_bgcolor = \"#f5fffe\", showlegend=False, hoverlabel=dict(font=dict(family = 'Calibri', size=12, color='#f5fffe')))\n",
    "\n",
    "# Show the interactive scatter plot\n",
    "fig.show()\n",
    "\n",
    "fig.write_html(\"interactive_plot.html\", include_plotlyjs='cdn')"
   ]
  },
  {
   "cell_type": "markdown",
   "id": "54e4396a",
   "metadata": {},
   "source": [
    "## Activity in the box Scatter Plot"
   ]
  },
  {
   "cell_type": "code",
   "execution_count": null,
   "id": "c74b520f",
   "metadata": {},
   "outputs": [],
   "source": [
    "players_possession_stats = pd.read_csv('PremierLeaguePlayerPossessionStats22-23.csv')\n",
    "players_possession_stats.head()"
   ]
  },
  {
   "cell_type": "code",
   "execution_count": null,
   "id": "31ccfe2a",
   "metadata": {},
   "outputs": [],
   "source": [
    "# # Get only players whose 'Pos' column contains 'MF' and 'MP' > 1000\n",
    "# players_possession_stats['Min'] = players_possession_stats['90s']*90\n",
    "\n",
    "midfielders = players_possession_stats[((players_possession_stats['Pos'] == 'MF') | (players_possession_stats['Pos'] == 'MF,FW')) & (players_possession_stats['Min'] > 1000)]"
   ]
  },
  {
   "cell_type": "code",
   "execution_count": null,
   "id": "fd387ea9",
   "metadata": {},
   "outputs": [],
   "source": [
    "players_shooting_stats = pd.read_csv('PremierLeaguePlayerShootingStats22-23.csv')\n",
    "players_shooting_stats.head()"
   ]
  },
  {
   "cell_type": "code",
   "execution_count": null,
   "id": "d8af3304",
   "metadata": {},
   "outputs": [],
   "source": [
    "players_shooting_stats['Min'] = players_shooting_stats['90s']*90"
   ]
  },
  {
   "cell_type": "code",
   "execution_count": null,
   "id": "9fb29361",
   "metadata": {},
   "outputs": [],
   "source": [
    "midfielders2 = players_shooting_stats[((players_shooting_stats['Pos'] == 'MF') | (players_shooting_stats['Pos'] == 'MF,FW')) & (players_shooting_stats['Min'] > 1000)]"
   ]
  },
  {
   "cell_type": "code",
   "execution_count": null,
   "id": "47afe76c",
   "metadata": {},
   "outputs": [],
   "source": [
    "# Merge the midfielders DataFrames based on the 'Player' column\n",
    "final_midfielders = midfielders.merge(midfielders2, on='Player')\n",
    "final_midfielders.head()"
   ]
  },
  {
   "cell_type": "code",
   "execution_count": null,
   "id": "cf6b686c",
   "metadata": {},
   "outputs": [],
   "source": [
    "final_midfielders['TouchesPenp90'] = final_midfielders['Att Pen'] / final_midfielders['90s_x']\n",
    "final_midfielders.head()"
   ]
  },
  {
   "cell_type": "code",
   "execution_count": null,
   "id": "54f54267",
   "metadata": {},
   "outputs": [],
   "source": [
    "final_midfielders[final_midfielders['Squad_x'] == 'Bournemouth']"
   ]
  },
  {
   "cell_type": "code",
   "execution_count": null,
   "id": "26e14afa",
   "metadata": {},
   "outputs": [],
   "source": [
    "import matplotlib.pyplot as plt\n",
    "from matplotlib.offsetbox import OffsetImage, AnnotationBbox\n",
    "\n",
    "# Set the figure size\n",
    "plt.figure(figsize=(20, 20), dpi=600)\n",
    "\n",
    "# Calculate median values for x and y variables\n",
    "x_median = final_midfielders['Sh/90'].median()\n",
    "y_median = final_midfielders['TouchesPenp90'].median()\n",
    "\n",
    "# Plot 'Touches in Penalty Box per 90' against 'Shots per 90'\n",
    "plt.scatter(final_midfielders['Sh/90'], final_midfielders['TouchesPenp90'], marker='None')\n",
    "plt.xlabel('Sh/90')\n",
    "plt.ylabel('TouchesPenp90')\n",
    "plt.title('Touches in Penalty Box per 90 vs Shots per 90 (Midfielders)')\n",
    "\n",
    "# Annotate some data points with player names\n",
    "for i, player in final_midfielders.iterrows():\n",
    "    if player['Player'] in show_names:\n",
    "        plt.text(player['Sh/90']+0.001, player['TouchesPenp90']+0.007, player['Player'])\n",
    "\n",
    "# Add club logos for selected data points\n",
    "for i, player in final_midfielders.iterrows():\n",
    "#     if player['Player'] in show_badges:\n",
    "    img_path = 'club-logos/' + player['Squad_x'] + '.png'\n",
    "    image = plt.imread(img_path)\n",
    "    imagebox = OffsetImage(image, zoom = 0.075, alpha = 1)\n",
    "    ab = AnnotationBbox(imagebox, (player['Sh/90'], player['TouchesPenp90']), frameon=False)\n",
    "    plt.gca().add_artist(ab)\n",
    "\n",
    "# Add median lines\n",
    "plt.axhline(y=y_median, color='r', linestyle='--', label='Median TouchesPenp90')\n",
    "plt.axvline(x=x_median, color='r', linestyle='--', label='Median Sh/90')\n",
    "\n",
    "# Quadrants explanation\n",
    "# plt.text(0.025,4,\"Lots of touches in the oppposition box (Player overperformed)\",color=\"red\",size=\"12\")\n",
    "# plt.text(0.025,4,\"Fewer shots\",color=\"green\",size=\"12\")\n",
    "\n",
    "# plt.text(0.335,0.43,\"Higher expected goals\",color=\"green\",size=\"12\")\n",
    "# plt.text(0.335,0.42,\"More goals\",color=\"green\",size=\"12\")\n",
    "\n",
    "# plt.text(0.31,0.032,\"Higher expected goals)\",color=\"green\",size=\"12\")\n",
    "# plt.text(0.31,0.025,\"Fewer goals (Player underperformed)\",color=\"red\",size=\"12\")\n",
    "\n",
    "# Annotate with text + Arrow\n",
    "# x_mcallister = (final_midfielders[final_midfielders['Player'] == 'Alexis Mac Allister'])['Sh/90']\n",
    "# y_mcallister = (final_midfielders[final_midfielders['Player'] == 'Alexis Mac Allister'])['Att Pen']\n",
    "# plt.text(x=0.32, y=0.14, s='TOT', fontdict=dict(color='red',size=10), bbox=dict(facecolor='yellow',alpha=0.5))\n",
    "# plt.annotate('This point is interesting!', xy=(x_mcallister, y_mcallister), xytext=(0.32, 0.14), arrowprops=dict(facecolor='black', shrink=0.005))\n",
    "\n",
    "plt.legend()\n",
    "\n",
    "# Save the plot with higher DPI\n",
    "plt.savefig('Activity in the box.png', dpi=300)\n",
    "\n",
    "plt.show()"
   ]
  },
  {
   "cell_type": "markdown",
   "id": "75475f2d",
   "metadata": {},
   "source": [
    "## Chance Creation Scatter Plot"
   ]
  },
  {
   "cell_type": "code",
   "execution_count": null,
   "id": "264afcf1",
   "metadata": {},
   "outputs": [],
   "source": [
    "players_passing_stats = pd.read_csv('PremierLeaguePlayerPassingStats22-23.csv')\n",
    "players_passing_stats.head()"
   ]
  },
  {
   "cell_type": "code",
   "execution_count": null,
   "id": "018f8490",
   "metadata": {},
   "outputs": [],
   "source": [
    "# # Get only players whose 'Pos' column contains 'MF' and 'MP' > 1000\n",
    "# players_passing_stats['Min'] = players_passing_stats['90s']*90\n",
    "\n",
    "midfielders = players_passing_stats[((players_passing_stats['Pos'] == 'MF') | (players_passing_stats['Pos'] == 'MF,FW')) & (players_passing_stats['Min'] > 1000)]\n",
    "midfielders.head()"
   ]
  },
  {
   "cell_type": "code",
   "execution_count": null,
   "id": "46e2da41",
   "metadata": {},
   "outputs": [],
   "source": [
    "midfielders['KPp90'] = round(midfielders['KP'] / midfielders['90s'], 2)\n",
    "midfielders['xAp90'] = round(midfielders['xA'] / midfielders['90s'], 2)\n",
    "midfielders.head()"
   ]
  },
  {
   "cell_type": "code",
   "execution_count": null,
   "id": "7eef1ad7",
   "metadata": {},
   "outputs": [],
   "source": [
    "import matplotlib.pyplot as plt\n",
    "from matplotlib.offsetbox import OffsetImage, AnnotationBbox\n",
    "\n",
    "# Set the figure size\n",
    "plt.figure(figsize=(20, 20), dpi=600)\n",
    "\n",
    "# Calculate median values for x and y variables\n",
    "x_median = midfielders['xAp90'].median()\n",
    "y_median = midfielders['KPp90'].median()\n",
    "\n",
    "# Plot Key Passes per 90 vs Expected Assists per 90\n",
    "plt.scatter(midfielders['xAp90'], midfielders['KPp90'], marker='None')\n",
    "plt.xlabel('xAp90')\n",
    "plt.ylabel('KPp90')\n",
    "plt.title('Key Passes per 90 vs Expected Assists per 90 (Midfielders)')\n",
    "\n",
    "# Set the desired tick values for the x-axis\n",
    "x_ticks = np.arange(0, np.max(midfielders['xAp90']) + 0.05, 0.05)\n",
    "plt.xticks(x_ticks)\n",
    "\n",
    "# Annotate some data points with player names\n",
    "for i, player in midfielders.iterrows():\n",
    "    if player['Player'] in show_names:\n",
    "        plt.text(player['xAp90']+0.001, player['KPp90']+0.007, player['Player'])\n",
    "\n",
    "# Add club logos for selected data points\n",
    "for i, player in midfielders.iterrows():\n",
    "#     if player['Player'] in show_badges:\n",
    "    img_path = 'club-logos/' + player['Squad'] + '.png'\n",
    "    image = plt.imread(img_path)\n",
    "    imagebox = OffsetImage(image, zoom = 0.075, alpha = 1)\n",
    "    ab = AnnotationBbox(imagebox, (player['xAp90'], player['KPp90']), frameon=False)\n",
    "    plt.gca().add_artist(ab)\n",
    "\n",
    "# Add median lines\n",
    "plt.axhline(y=y_median, color='r', linestyle='--', label='Median KPp90')\n",
    "plt.axvline(x=x_median, color='r', linestyle='--', label='Median xAp90')\n",
    "\n",
    "# Quadrants explanation\n",
    "# plt.text(0.025,0.42,\"Less expected goals (Player overperformed)\",color=\"red\",size=\"12\")\n",
    "# plt.text(0.025,0.43,\"More goals\",color=\"green\",size=\"12\")\n",
    "\n",
    "# plt.text(0.335,0.43,\"Higher expected goals\",color=\"green\",size=\"12\")\n",
    "# plt.text(0.335,0.42,\"More goals\",color=\"green\",size=\"12\")\n",
    "\n",
    "# plt.text(0.31,0.032,\"Higher expected goals\",color=\"green\",size=\"12\")\n",
    "# plt.text(0.31,0.025,\"Fewer goals (Player underperformed)\",color=\"red\",size=\"12\")\n",
    "\n",
    "# Annotate with text + Arrow\n",
    "# x_mcallister = (midfielders[midfielders['Player'] == 'Alexis Mac Allister'])['xAp90']\n",
    "# y_mcallister = (midfielders[midfielders['Player'] == 'Alexis Mac Allister'])['KPp90']\n",
    "# plt.text(x=0.32, y=0.14, s='TOT', fontdict=dict(color='red',size=10), bbox=dict(facecolor='yellow',alpha=0.5))\n",
    "# plt.annotate('This point is interesting!', xy=(x_mcallister, y_mcallister), xytext=(0.32, 0.14), arrowprops=dict(facecolor='black', shrink=0.005))\n",
    "\n",
    "plt.legend()\n",
    "\n",
    "# Save the plot with higher DPI\n",
    "plt.savefig('Chance Creation.png', dpi=300)\n",
    "\n",
    "plt.show()"
   ]
  },
  {
   "cell_type": "markdown",
   "id": "8b28cf49",
   "metadata": {},
   "source": [
    "### Dribbling"
   ]
  },
  {
   "cell_type": "code",
   "execution_count": null,
   "id": "9f14b121",
   "metadata": {},
   "outputs": [],
   "source": [
    "players_possession_stats[players_possession_stats['Player'] == 'Alexis Mac Allister']"
   ]
  },
  {
   "cell_type": "code",
   "execution_count": null,
   "id": "09dffc20",
   "metadata": {},
   "outputs": [],
   "source": [
    "# 1/3 - carries into the final third\n",
    "# Rec - passes received\n",
    "# Mid 3rd - touches in middle third\n",
    "\n",
    "# players_possession_stats['Min'] = players_possession_stats['90s']*90\n",
    "midfielders = players_possession_stats[((players_possession_stats['Pos'] == 'MF') | (players_possession_stats['Pos'] == 'MF,FW')) & (players_possession_stats['Min'] > 1000)]\n",
    "midfielders.head()"
   ]
  },
  {
   "cell_type": "code",
   "execution_count": null,
   "id": "fe223e5e",
   "metadata": {},
   "outputs": [],
   "source": [
    "# Succ - number of successful takeons\n",
    "# PrgC - progressive carries\n",
    "\n",
    "midfielders['Succp90'] = round(midfielders['Succ'] / midfielders['90s'], 2)\n",
    "midfielders['PrgCp90'] = round(midfielders['PrgC'] / midfielders['90s'], 2)\n",
    "midfielders.head()"
   ]
  },
  {
   "cell_type": "code",
   "execution_count": null,
   "id": "18baf610",
   "metadata": {},
   "outputs": [],
   "source": [
    "new_names = ['Stuart Armstrong', 'Josh Dasilva', 'Dejan Kulusevski', 'Kevin De Bruyne', 'Bernardo Silva', 'Marcus Tavernier', 'Joe Willock', 'Jacob Ramsey', 'Harvey Elliott', 'James Maddison', 'Curtis Jones', 'Kiernan Dewsbury-Hall', 'Mason Mount', 'Bruno Fernandes', 'Declan Rice', 'Martin Ødegaard', 'Eberechi Eze', 'Rodri', 'Mohamed Elyounoussi', 'Emi Buendía', 'Conor Gallagher', 'Jaidon Anthony', 'Joelinton']\n",
    "show_names1 = show_names.copy()\n",
    "\n",
    "for name in new_names:\n",
    "    if name not in show_names:\n",
    "        show_names1.append(name)\n",
    "\n",
    "print(show_names1)"
   ]
  },
  {
   "cell_type": "code",
   "execution_count": null,
   "id": "e7b7440c",
   "metadata": {},
   "outputs": [],
   "source": [
    "import matplotlib.pyplot as plt\n",
    "from matplotlib.offsetbox import OffsetImage, AnnotationBbox\n",
    "\n",
    "# Set the figure size\n",
    "plt.figure(figsize=(20, 20), dpi=600)\n",
    "\n",
    "# Calculate median values for x and y variables\n",
    "x_median = midfielders['Succp90'].median()\n",
    "y_median = midfielders['PrgCp90'].median()\n",
    "\n",
    "# Plot Progressive Carries per 90 vs Successful Dribbles per 90\n",
    "plt.scatter(midfielders['Succp90'], midfielders['PrgCp90'], marker='None')\n",
    "plt.xlabel('Succp90')\n",
    "plt.ylabel('PrgCp90')\n",
    "plt.title('Progressive Carries per 90 vs Successful Dribbles per 90 (Midfielders)')\n",
    "\n",
    "# Set the desired tick values for the x-axis\n",
    "x_ticks = np.arange(0, 3, 0.5)\n",
    "plt.xticks(x_ticks)\n",
    "\n",
    "# Annotate some data points with player names\n",
    "for i, player in midfielders.iterrows():\n",
    "    if player['Player'] in show_names1:\n",
    "        plt.text(player['Succp90']+0.001, player['PrgCp90']+0.007, player['Player'])\n",
    "\n",
    "# Add club logos for selected data points\n",
    "for i, player in midfielders.iterrows():\n",
    "#     if player['Player'] in show_badges:\n",
    "    img_path = 'club-logos/' + player['Squad'] + '.png'\n",
    "    image = plt.imread(img_path)\n",
    "    imagebox = OffsetImage(image, zoom = 0.075, alpha = 1)\n",
    "    ab = AnnotationBbox(imagebox, (player['Succp90'], player['PrgCp90']), frameon=False)\n",
    "    plt.gca().add_artist(ab)\n",
    "\n",
    "# Add median lines\n",
    "plt.axhline(y=y_median, color='r', linestyle='--', label='Median PrgCp90')\n",
    "plt.axvline(x=x_median, color='r', linestyle='--', label='Median Succp90')\n",
    "\n",
    "# Quadrants explanation\n",
    "# plt.text(0.025,0.42,\"Less expected goals (Player overperformed)\",color=\"red\",size=\"12\")\n",
    "# plt.text(0.025,0.43,\"More goals\",color=\"green\",size=\"12\")\n",
    "\n",
    "# plt.text(0.335,0.43,\"Higher expected goals\",color=\"green\",size=\"12\")\n",
    "# plt.text(0.335,0.42,\"More goals\",color=\"green\",size=\"12\")\n",
    "\n",
    "# plt.text(0.31,0.032,\"Higher expected goals\",color=\"green\",size=\"12\")\n",
    "# plt.text(0.31,0.025,\"Fewer goals (Player underperformed)\",color=\"red\",size=\"12\")\n",
    "\n",
    "# Annotate with text + Arrow\n",
    "# x_mcallister = (midfielders[midfielders['Player'] == 'Alexis Mac Allister'])['xAp90']\n",
    "# y_mcallister = (midfielders[midfielders['Player'] == 'Alexis Mac Allister'])['KPp90']\n",
    "# plt.text(x=0.32, y=0.14, s='TOT', fontdict=dict(color='red',size=10), bbox=dict(facecolor='yellow',alpha=0.5))\n",
    "# plt.annotate('This point is interesting!', xy=(x_mcallister, y_mcallister), xytext=(0.32, 0.14), arrowprops=dict(facecolor='black', shrink=0.005))\n",
    "\n",
    "plt.legend()\n",
    "\n",
    "# Save the plot with higher DPI\n",
    "plt.savefig('Dribbling.png', dpi=300)\n",
    "\n",
    "plt.show()"
   ]
  },
  {
   "cell_type": "code",
   "execution_count": null,
   "id": "87a7d96b",
   "metadata": {},
   "outputs": [],
   "source": [
    "midfielders['Mid3rdp90'] = round(midfielders['Mid 3rd'] / midfielders['90s'], 2)\n",
    "midfielders[['Player', 'Mid3rdp90']].sort_values(by='Mid3rdp90', ascending=False)\n",
    " \n",
    "middle_3rd_midfielders = midfielders[midfielders['Mid3rdp90'] > 30]\n",
    "middle_3rd_midfielders.head()"
   ]
  },
  {
   "cell_type": "code",
   "execution_count": null,
   "id": "b9880a81",
   "metadata": {},
   "outputs": [],
   "source": [
    "(middle_3rd_midfielders[['Player', 'Mid 3rd']]).sort_values(by='Mid 3rd', ascending=False)"
   ]
  },
  {
   "cell_type": "code",
   "execution_count": null,
   "id": "bba8824a",
   "metadata": {},
   "outputs": [],
   "source": [
    "# set figure size\n",
    "plt.figure(figsize=(20,10))\n",
    "\n",
    "# plot polar axis\n",
    "ax = plt.subplot(111, polar=True)\n",
    "\n",
    "# remove grid\n",
    "plt.axis('off')\n",
    "\n",
    "# Set the coordinates limits\n",
    "upperLimit = 100\n",
    "lowerLimit = 30\n",
    "\n",
    "# Reorder the dataframe\n",
    "df = middle_3rd_midfielders.sort_values(by=['Mid 3rd'])\n",
    "\n",
    "# Compute max and min in the dataset\n",
    "max = df['Mid 3rd'].max()\n",
    "\n",
    "# Let's compute heights: they are a conversion of each item value in those new coordinates\n",
    "# In our example, 0 in the dataset will be converted to the lowerLimit (10)\n",
    "# The maximum will be converted to the upperLimit (100)\n",
    "slope = (max - lowerLimit) / max\n",
    "heights = slope * df['Mid 3rd'] + lowerLimit\n",
    "\n",
    "# Compute the width of each bar. In total we have 2*Pi = 360°\n",
    "width = 2*np.pi / len(df.index)\n",
    "\n",
    "# Compute the angle each bar is centered on:\n",
    "indexes = list(range(1, len(df.index)+1))\n",
    "angles = [element * width for element in indexes]\n",
    "angles\n",
    "\n",
    "# Draw bars\n",
    "bars = ax.bar(\n",
    "    x=angles, \n",
    "    height=heights, \n",
    "    width=width, \n",
    "    bottom=lowerLimit,\n",
    "    linewidth=2, \n",
    "    edgecolor=\"white\",\n",
    ")\n",
    "\n",
    "# little space between the bar and the label\n",
    "labelPadding = 4\n",
    "highlight_player = 'Alexis Mac Allister'  # Player you want to highlight\n",
    "\n",
    "# Add labels\n",
    "for bar, angle, height, label in zip(bars,angles, heights, df['Player']):\n",
    "    if label == highlight_player:\n",
    "        bar.set_color('red')  # Change the color of the highlighted bar\n",
    "        bar.set_edgecolor('white')  # Change the edge color of the highlighted bar\n",
    "\n",
    "    # Labels are rotated. Rotation must be specified in degrees :(\n",
    "    rotation = np.rad2deg(angle)\n",
    "\n",
    "    # Flip some labels upside down\n",
    "    alignment = \"\"\n",
    "    if angle >= np.pi/2 and angle < 3*np.pi/2:\n",
    "        alignment = \"right\"\n",
    "        rotation = rotation + 180\n",
    "    else: \n",
    "        alignment = \"left\"\n",
    "\n",
    "    # Finally add the labels\n",
    "    ax.text(\n",
    "        x=angle, \n",
    "        y=lowerLimit + bar.get_height() + labelPadding, \n",
    "        s=label, \n",
    "        ha=alignment, \n",
    "        va='center', \n",
    "        rotation=rotation, \n",
    "        rotation_mode=\"anchor\") "
   ]
  },
  {
   "cell_type": "code",
   "execution_count": null,
   "id": "635b1e7c",
   "metadata": {},
   "outputs": [],
   "source": [
    "# Received passes per 90 vs progressive passes per 90 \n",
    "\n",
    "player_standard_stats = pd.read_csv('PremierLeaguePlayerStats22-23.csv')\n",
    "final_midfielders = midfielders.merge(player_standard_stats, on='Player')\n",
    "final_midfielders.head()"
   ]
  },
  {
   "cell_type": "code",
   "execution_count": null,
   "id": "305a83a0",
   "metadata": {},
   "outputs": [],
   "source": [
    "final_midfielders['Recp90'] = round(final_midfielders['Rec'] / final_midfielders['90s_x'], 2)\n",
    "final_midfielders['PrgPp90'] = round(final_midfielders['PrgP'] / final_midfielders['90s_x'], 2)\n",
    "\n",
    "final_midfielders.head()"
   ]
  },
  {
   "cell_type": "code",
   "execution_count": null,
   "id": "2944c8de",
   "metadata": {},
   "outputs": [],
   "source": [
    "import matplotlib.pyplot as plt\n",
    "from matplotlib.offsetbox import OffsetImage, AnnotationBbox\n",
    "\n",
    "# Set the figure size\n",
    "plt.figure(figsize=(20, 20), dpi=600)\n",
    "\n",
    "# Calculate median values for x and y variables\n",
    "x_median = final_midfielders['PrgPp90'].median()\n",
    "y_median = final_midfielders['Recp90'].median()\n",
    "\n",
    "# Plot Received Passes per 90 vs Progressive Passes per 90 \n",
    "plt.scatter(final_midfielders['PrgPp90'], final_midfielders['Recp90'], marker='None')\n",
    "plt.xlabel('PrgPp90')\n",
    "plt.ylabel('Recp90')\n",
    "plt.title('Received Passes per 90 vs Progressive Passes per 90 (Midfielders)')\n",
    "\n",
    "# Set the desired tick values for the x-axis\n",
    "x_ticks = np.arange(0, 10, 1)\n",
    "plt.xticks(x_ticks)\n",
    "\n",
    "# Annotate some data points with player names\n",
    "for i, player in final_midfielders.iterrows():\n",
    "    if player['Player'] in show_names1:\n",
    "        plt.text(player['PrgPp90']+0.001, player['Recp90']+0.007, player['Player'])\n",
    "\n",
    "# Add club logos for selected data points\n",
    "for i, player in final_midfielders.iterrows():\n",
    "#     if player['Player'] in show_badges:\n",
    "    img_path = 'club-logos/' + player['Squad_x'] + '.png'\n",
    "    image = plt.imread(img_path)\n",
    "    imagebox = OffsetImage(image, zoom = 0.075, alpha = 1)\n",
    "    ab = AnnotationBbox(imagebox, (player['PrgPp90'], player['Recp90']), frameon=False)\n",
    "    plt.gca().add_artist(ab)\n",
    "\n",
    "# Add median lines\n",
    "plt.axhline(y=y_median, color='r', linestyle='--', label='Median Recp90')\n",
    "plt.axvline(x=x_median, color='r', linestyle='--', label='Median PrgPp90')\n",
    "\n",
    "# Quadrants explanation\n",
    "# plt.text(0.025,0.42,\"Less expected goals (Player overperformed)\",color=\"red\",size=\"12\")\n",
    "# plt.text(0.025,0.43,\"More goals\",color=\"green\",size=\"12\")\n",
    "\n",
    "# plt.text(0.335,0.43,\"Higher expected goals\",color=\"green\",size=\"12\")\n",
    "# plt.text(0.335,0.42,\"More goals\",color=\"green\",size=\"12\")\n",
    "\n",
    "# plt.text(0.31,0.032,\"Higher expected goals\",color=\"green\",size=\"12\")\n",
    "# plt.text(0.31,0.025,\"Fewer goals (Player underperformed)\",color=\"red\",size=\"12\")\n",
    "\n",
    "# Annotate with text + Arrow\n",
    "# x_mcallister = (midfielders[midfielders['Player'] == 'Alexis Mac Allister'])['xAp90']\n",
    "# y_mcallister = (midfielders[midfielders['Player'] == 'Alexis Mac Allister'])['KPp90']\n",
    "# plt.text(x=0.32, y=0.14, s='TOT', fontdict=dict(color='red',size=10), bbox=dict(facecolor='yellow',alpha=0.5))\n",
    "# plt.annotate('This point is interesting!', xy=(x_mcallister, y_mcallister), xytext=(0.32, 0.14), arrowprops=dict(facecolor='black', shrink=0.005))\n",
    "\n",
    "plt.legend()\n",
    "\n",
    "# Save the plot with higher DPI\n",
    "plt.savefig('Ball progression.png', dpi=300)\n",
    "\n",
    "plt.show()"
   ]
  },
  {
   "cell_type": "code",
   "execution_count": null,
   "id": "556d32a0",
   "metadata": {},
   "outputs": [],
   "source": [
    "import scipy.stats as stats\n",
    "\n",
    "sorted_df = final_midfielders[['Player', 'PrgC_x']].sort_values(by='PrgC_x', ascending=False)\n",
    "\n",
    "# Calculate the percentile for each player\n",
    "sorted_df['Percentile'] = sorted_df['PrgC_x'].apply(lambda x: stats.percentileofscore(sorted_df['PrgC_x'], x))\n",
    "\n",
    "# Display the DataFrame with Player, PrgPp90, and Percentile columns\n",
    "print(sorted_df[['Player', 'PrgC_x', 'Percentile']])"
   ]
  },
  {
   "cell_type": "code",
   "execution_count": null,
   "id": "01c3b854",
   "metadata": {},
   "outputs": [],
   "source": []
  },
  {
   "cell_type": "markdown",
   "id": "ad1190a8",
   "metadata": {},
   "source": [
    "### DEFENSIVE CONTRIBTUION"
   ]
  },
  {
   "cell_type": "code",
   "execution_count": null,
   "id": "5ed549a9",
   "metadata": {},
   "outputs": [],
   "source": [
    "player_defense_stats = pd.read_csv('PremierLeaguePlayerDefenseStats22-23.csv')\n",
    "player_defense_stats.head()"
   ]
  },
  {
   "cell_type": "code",
   "execution_count": null,
   "id": "dc4406fe",
   "metadata": {},
   "outputs": [],
   "source": [
    "# player_defense_stats['Min'] = player_defense_stats['90s']*90\n",
    "midfielders_d = player_defense_stats[((player_defense_stats['Pos'] == 'MF') | (player_defense_stats['Pos'] == 'MF,FW')) & (player_defense_stats['Min'] > 1000)]\n",
    "midfielders_d.head()"
   ]
  },
  {
   "cell_type": "code",
   "execution_count": null,
   "id": "e7f9b386",
   "metadata": {},
   "outputs": [],
   "source": [
    "# PLOT TACKLES WON % (y) vs INTERCEPTION (x)"
   ]
  }
 ],
 "metadata": {
  "kernelspec": {
   "display_name": "Python 3 (ipykernel)",
   "language": "python",
   "name": "python3"
  },
  "language_info": {
   "codemirror_mode": {
    "name": "ipython",
    "version": 3
   },
   "file_extension": ".py",
   "mimetype": "text/x-python",
   "name": "python",
   "nbconvert_exporter": "python",
   "pygments_lexer": "ipython3",
   "version": "3.9.12"
  }
 },
 "nbformat": 4,
 "nbformat_minor": 5
}
