{
 "cells": [
  {
   "cell_type": "code",
   "execution_count": null,
   "id": "4ca076e3",
   "metadata": {},
   "outputs": [],
   "source": []
  },
  {
   "cell_type": "code",
   "execution_count": null,
   "id": "0d35bd2e",
   "metadata": {},
   "outputs": [],
   "source": [
    "import plotly.express as px\n",
    "import plotly.graph_objects as go\n",
    "import os\n",
    "\n",
    "fig = px.scatter(midfielders, x='xGp90', y='npGlsp90', hover_data=['Player'])\n",
    "\n",
    "# Calculate median values for x and y variables\n",
    "x_median = midfielders['xGp90'].median()\n",
    "y_median = midfielders['npGlsp90'].median()\n",
    "\n",
    "# Add median lines\n",
    "fig.add_hline(y=y_median, line_dash=\"dash\", line_color=\"red\")\n",
    "fig.add_vline(x=x_median, line_dash=\"dash\", line_color=\"red\")\n",
    "\n",
    "# Add annotations for player names\n",
    "for i, player in midfielders.iterrows():\n",
    "    if player['Player'] in show_names:\n",
    "        fig.add_annotation(x=player['xGp90']+0.001, y=player['npGlsp90']+0.007, text=player['Player'], showarrow=False, font=dict(size=10))\n",
    "\n",
    "# Add club logos for selected data points\n",
    "for i, player in midfielders.iterrows():\n",
    "    img_path = f\"club-logos\\\\{player['Squad']}.png\"\n",
    "    image = go.layout.Image(source=img_path, x=player['xGp90'], y=player['npGlsp90'], sizex=0.01, sizey=0.01, xref='x', yref='y', xanchor='center', yanchor='middle')\n",
    "    fig.add_layout_image(image)\n",
    "    \n",
    "# Set axis labels and title\n",
    "fig.update_layout(xaxis_title='xGp90', yaxis_title='npGlsp90', title='Non Penalty Goals per 90 minutes vs Expected Goals per 90 minutes (Midfielders)')\n",
    "\n",
    "# # Add quadrants explanation\n",
    "# fig.add_annotation(x=0.055, y=0.45, text=\"Less expected goals (Player overperformed)\", showarrow=False, font=dict(color=\"red\", size=12))\n",
    "# fig.add_annotation(x=0.055, y=0.444, text=\"More goals\", showarrow=False, font=dict(color=\"green\", size=12))\n",
    "\n",
    "# fig.add_annotation(x=0.352, y=0.45, text=\"Higher expected goals\", showarrow=False, font=dict(color=\"green\", size=12))\n",
    "# fig.add_annotation(x=0.352, y=0.444, text=\"More goals\", showarrow=False, font=dict(color=\"green\", size=12))\n",
    "\n",
    "# fig.add_annotation(x=0.352, y=0.019, text=\"Higher expected goals\", showarrow=False, font=dict(color=\"green\", size=12))\n",
    "# fig.add_annotation(x=0.352, y=0.013, text=\"Fewer goals (Player underperformed)\", showarrow=False, font=dict(color=\"red\", size=12))\n",
    "\n",
    "# fig.add_annotation(x=0.055, y=0.019, text=\"Less expected goals\", showarrow=False, font=dict(color=\"red\", size=12))\n",
    "# fig.add_annotation(x=0.055, y=0.013, text=\"Fewer goals\", showarrow=False, font=dict(color=\"red\", size=12))\n",
    "\n",
    "x_mcallister = (midfielders[midfielders['Player'] == 'Alexis Mac Allister'])['xGp90']\n",
    "y_mcallister = (midfielders[midfielders['Player'] == 'Alexis Mac Allister'])['npGlsp90']\n",
    "\n",
    "fig.update_layout(width=1200, height=1500, plot_bgcolor = \"#f5fffe\", showlegend=False, hoverlabel=dict(font=dict(family = 'Calibri', size=12, color='#f5fffe')))\n",
    "\n",
    "# Show the interactive scatter plot\n",
    "fig.show()\n",
    "\n",
    "fig.write_html(\"interactive_plot.html\", include_plotlyjs='cdn')"
   ]
  }
 ],
 "metadata": {
  "kernelspec": {
   "display_name": "Python 3 (ipykernel)",
   "language": "python",
   "name": "python3"
  },
  "language_info": {
   "codemirror_mode": {
    "name": "ipython",
    "version": 3
   },
   "file_extension": ".py",
   "mimetype": "text/x-python",
   "name": "python",
   "nbconvert_exporter": "python",
   "pygments_lexer": "ipython3",
   "version": "3.9.12"
  }
 },
 "nbformat": 4,
 "nbformat_minor": 5
}
